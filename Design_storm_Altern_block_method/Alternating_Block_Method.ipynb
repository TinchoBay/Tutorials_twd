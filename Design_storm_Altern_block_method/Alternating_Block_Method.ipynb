{
 "cells": [
  {
   "cell_type": "code",
   "execution_count": 1,
   "id": "f8595c5b",
   "metadata": {},
   "outputs": [],
   "source": [
    "import pandas as pd\n",
    "import matplotlib.pyplot as plt\n",
    "import numpy as np\n",
    "%matplotlib inline"
   ]
  },
  {
   "cell_type": "markdown",
   "id": "f082b4d5",
   "metadata": {},
   "source": [
    "# IDF Curves - Greece"
   ]
  },
  {
   "cell_type": "markdown",
   "id": "d33141bf",
   "metadata": {},
   "source": [
    "In the context of the implementation of Water Directive 2007/60 in Greece, formulas of rain curves (parametric relations for calculating the intensity of rainfall for a given duration and return period) were drawn up at the locations of the rainfall stations in each Water Department. You may have a look at the following link:  "
   ]
  },
  {
   "cell_type": "markdown",
   "id": "d121e125",
   "metadata": {},
   "source": [
    "The formula required to estimate "
   ]
  },
  {
   "cell_type": "markdown",
   "id": "af2fe45c",
   "metadata": {},
   "source": [
    "\\begin{equation} \n",
    "i= \\frac{a(T)}{b(d)}\n",
    "\\end{equation}"
   ]
  },
  {
   "cell_type": "markdown",
   "id": "0e6919dc",
   "metadata": {},
   "source": [
    "\\begin{equation} \n",
    "i(d, T)=\\frac{\\lambda^{\\prime}\\left(T^{k}-\\psi^{\\prime}\\right)}{(1+d / \\theta)^{\\eta}}\n",
    "\\end{equation}"
   ]
  },
  {
   "cell_type": "code",
   "execution_count": 2,
   "id": "123ea4e5",
   "metadata": {},
   "outputs": [],
   "source": [
    "kappa = 0.113\n",
    "lambda_par = 409.0\n",
    "psi = 0.607\n",
    "theta = 0.089\n",
    "ita = 0.724\n",
    "\n",
    "def rain_intens(T,d):\n",
    "    a = lambda_par * (T**kappa - psi)\n",
    "    b = (1 + d / theta) ** ita\n",
    "    return a / b\n",
    "\n",
    "# Vectorizing function\n",
    "rain_intens_v = np.vectorize(rain_intens)\n"
   ]
  },
  {
   "cell_type": "markdown",
   "id": "ced67bad",
   "metadata": {},
   "source": [
    "This formula contains five parameters which can be found in the above mentioned table"
   ]
  },
  {
   "cell_type": "markdown",
   "id": "eb3d7ad1",
   "metadata": {},
   "source": [
    "# IDF Plots"
   ]
  },
  {
   "cell_type": "code",
   "execution_count": 3,
   "id": "61e454e6",
   "metadata": {},
   "outputs": [
    {
     "data": {
      "image/png": "[encoded data removed]",
      "text/plain": [
       "<Figure size 432x288 with 1 Axes>"
      ]
     },
     "metadata": {
      "needs_background": "light"
     },
     "output_type": "display_data"
    }
   ],
   "source": [
    "d = np.linspace(0,24,100)\n",
    "T_array = [25, 50, 100]\n",
    "for i in T_array:\n",
    "    y = rain_intens_v(i,d)\n",
    "    plt.plot(d,y, label='T= '+str(i))\n",
    "\n",
    "plt.xlabel('duration (hours)')\n",
    "plt.ylabel('intensity (mm/h)')\n",
    "plt.legend();\n",
    "plt.savefig('Results/IDF_Curves.png')"
   ]
  },
  {
   "cell_type": "markdown",
   "id": "c12cb500",
   "metadata": {},
   "source": [
    "# Alternative Block Method"
   ]
  },
  {
   "cell_type": "markdown",
   "id": "de87e2e8",
   "metadata": {},
   "source": [
    "## Input parameters"
   ]
  },
  {
   "cell_type": "code",
   "execution_count": 4,
   "id": "7177f50b",
   "metadata": {},
   "outputs": [],
   "source": [
    "# timestep should be in minutes i.e. 5, 10, 15, 10\n",
    "sel_time_step = 5 # in minutes\n",
    "\n",
    "# time duration in hours\n",
    "selected_storm_dur = 8\n",
    "\n",
    "# selected return period in years\n",
    "selected_T = 50\n",
    "\n",
    "timestep_h = sel_time_step / 60\n",
    "# t is an array of the time steps needed in hours\n",
    "t = np.linspace(timestep_h, selected_storm_dur, int(selected_storm_dur/timestep_h))\n",
    "rain_i = rain_intens_v(selected_T, t) * t # rain intensity\n",
    "\n",
    "storm_duration_min = selected_storm_dur*60\n",
    "tot_timesteps_min = storm_duration_min / sel_time_step\n",
    "timesteps_min = np.linspace(sel_time_step, storm_duration_min, int(tot_timesteps_min))"
   ]
  },
  {
   "cell_type": "code",
   "execution_count": 5,
   "id": "3ed571d1",
   "metadata": {},
   "outputs": [],
   "source": [
    "rain_intens_1st_step = np.array([rain_i[0]])\n",
    "# I also kept the first value besides teh differences\n",
    "differences = np.diff(rain_i)\n",
    "rain_intens_steps = np.concatenate((rain_intens_1st_step,differences))\n",
    "merge_array = np.column_stack((rain_intens_steps, timesteps_min))\n",
    "rain_steps_df = pd.DataFrame(data = merge_array, index=t,\n",
    "                         columns=['precip', 'steps'])"
   ]
  },
  {
   "cell_type": "markdown",
   "id": "be7a21a6",
   "metadata": {},
   "source": [
    "## Processing - Alternative block method"
   ]
  },
  {
   "cell_type": "code",
   "execution_count": 6,
   "id": "90382715",
   "metadata": {},
   "outputs": [],
   "source": [
    "atltern_array = np.zeros(rain_steps_df.shape[0]) \n",
    "rain_steps_df_sorted = rain_steps_df.sort_values(by='precip', ascending=False)\n",
    "mean_index = int(rain_steps_df.shape[0] /2)\n",
    "\n",
    "switch = True\n",
    "l1 = 1 \n",
    "l2 = 1\n",
    "for i in range(rain_steps_df_sorted.shape[0]):\n",
    "    if  i == 0:\n",
    "        atltern_array[mean_index] = rain_steps_df_sorted['precip'].iloc[0]\n",
    "    else:\n",
    "        if switch == True:\n",
    "            atltern_array[mean_index - l1] = rain_steps_df_sorted['precip'].iloc[i]\n",
    "            switch = False\n",
    "            l1+=1\n",
    "        else:\n",
    "            atltern_array[mean_index + l2] = rain_steps_df_sorted['precip'].iloc[i]\n",
    "            switch = True\n",
    "            l2+=1 "
   ]
  },
  {
   "cell_type": "code",
   "execution_count": 7,
   "id": "d90e0364",
   "metadata": {},
   "outputs": [],
   "source": [
    "atltern_ar_merge = np.column_stack((atltern_array, timesteps_min))\n",
    "atltern_df = pd.DataFrame(atltern_ar_merge, index=t, columns= ['precip (mm)','time_step (min)'])\n",
    "cols = ['time_step (min)','precip (mm)',]\n",
    "atltern_df = atltern_df[cols]\n",
    "atltern_excel = atltern_df.to_excel('Alternating_block_method_app.xlsx',\n",
    "                                    float_format='%.2f',\n",
    "                                   index_label='time step (h)')"
   ]
  },
  {
   "cell_type": "code",
   "execution_count": 8,
   "id": "f16e869d",
   "metadata": {},
   "outputs": [
    {
     "data": {
      "text/html": [
       "<div>\n",
       "<style scoped>\n",
       "    .dataframe tbody tr th:only-of-type {\n",
       "        vertical-align: middle;\n",
       "    }\n",
       "\n",
       "    .dataframe tbody tr th {\n",
       "        vertical-align: top;\n",
       "    }\n",
       "\n",
       "    .dataframe thead th {\n",
       "        text-align: right;\n",
       "    }\n",
       "</style>\n",
       "<table border=\"1\" class=\"dataframe\">\n",
       "  <thead>\n",
       "    <tr style=\"text-align: right;\">\n",
       "      <th></th>\n",
       "      <th>time_step (min)</th>\n",
       "      <th>precip (mm)</th>\n",
       "    </tr>\n",
       "  </thead>\n",
       "  <tbody>\n",
       "    <tr>\n",
       "      <th>0.083333</th>\n",
       "      <td>5.0</td>\n",
       "      <td>0.352179</td>\n",
       "    </tr>\n",
       "    <tr>\n",
       "      <th>0.166667</th>\n",
       "      <td>10.0</td>\n",
       "      <td>0.357769</td>\n",
       "    </tr>\n",
       "    <tr>\n",
       "      <th>0.250000</th>\n",
       "      <td>15.0</td>\n",
       "      <td>0.363575</td>\n",
       "    </tr>\n",
       "    <tr>\n",
       "      <th>0.333333</th>\n",
       "      <td>20.0</td>\n",
       "      <td>0.369610</td>\n",
       "    </tr>\n",
       "    <tr>\n",
       "      <th>0.416667</th>\n",
       "      <td>25.0</td>\n",
       "      <td>0.375889</td>\n",
       "    </tr>\n",
       "    <tr>\n",
       "      <th>...</th>\n",
       "      <td>...</td>\n",
       "      <td>...</td>\n",
       "    </tr>\n",
       "    <tr>\n",
       "      <th>7.666667</th>\n",
       "      <td>460.0</td>\n",
       "      <td>0.379125</td>\n",
       "    </tr>\n",
       "    <tr>\n",
       "      <th>7.750000</th>\n",
       "      <td>465.0</td>\n",
       "      <td>0.372718</td>\n",
       "    </tr>\n",
       "    <tr>\n",
       "      <th>7.833333</th>\n",
       "      <td>470.0</td>\n",
       "      <td>0.366563</td>\n",
       "    </tr>\n",
       "    <tr>\n",
       "      <th>7.916667</th>\n",
       "      <td>475.0</td>\n",
       "      <td>0.360645</td>\n",
       "    </tr>\n",
       "    <tr>\n",
       "      <th>8.000000</th>\n",
       "      <td>480.0</td>\n",
       "      <td>0.354948</td>\n",
       "    </tr>\n",
       "  </tbody>\n",
       "</table>\n",
       "<p>96 rows × 2 columns</p>\n",
       "</div>"
      ],
      "text/plain": [
       "          time_step (min)  precip (mm)\n",
       "0.083333              5.0     0.352179\n",
       "0.166667             10.0     0.357769\n",
       "0.250000             15.0     0.363575\n",
       "0.333333             20.0     0.369610\n",
       "0.416667             25.0     0.375889\n",
       "...                   ...          ...\n",
       "7.666667            460.0     0.379125\n",
       "7.750000            465.0     0.372718\n",
       "7.833333            470.0     0.366563\n",
       "7.916667            475.0     0.360645\n",
       "8.000000            480.0     0.354948\n",
       "\n",
       "[96 rows x 2 columns]"
      ]
     },
     "execution_count": 8,
     "metadata": {},
     "output_type": "execute_result"
    }
   ],
   "source": [
    "atltern_df"
   ]
  },
  {
   "cell_type": "markdown",
   "id": "76539f58",
   "metadata": {},
   "source": [
    "## Plot"
   ]
  },
  {
   "cell_type": "code",
   "execution_count": 9,
   "id": "a53ac37f",
   "metadata": {},
   "outputs": [
    {
     "data": {
      "image/png": "[encoded data removed]",
      "text/plain": [
       "<Figure size 432x288 with 1 Axes>"
      ]
     },
     "metadata": {
      "needs_background": "light"
     },
     "output_type": "display_data"
    }
   ],
   "source": [
    "# ploting\n",
    "plt.plot(atltern_df['precip (mm)'])\n",
    "plt.xticks(np.arange(0,selected_storm_dur+1,1))\n",
    "plt.xlabel('t (h)')\n",
    "plt.ylabel('Rainfall Δh (mm)')\n",
    "plt.savefig('Results/Alternating_Block_Method.png');"
   ]
  }
 ],
 "metadata": {
  "kernelspec": {
   "display_name": "Python 3 (ipykernel)",
   "language": "python",
   "name": "python3"
  },
  "language_info": {
   "codemirror_mode": {
    "name": "ipython",
    "version": 3
   },
   "file_extension": ".py",
   "mimetype": "text/x-python",
   "name": "python",
   "nbconvert_exporter": "python",
   "pygments_lexer": "ipython3",
   "version": "3.8.10"
  }
 },
 "nbformat": 4,
 "nbformat_minor": 5
}
