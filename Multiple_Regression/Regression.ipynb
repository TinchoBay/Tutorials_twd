{
 "cells": [
  {
   "cell_type": "code",
   "execution_count": 1,
   "id": "53e430c5",
   "metadata": {},
   "outputs": [],
   "source": [
    "import pandas as pd\n",
    "import numpy as np\n",
    "from sklearn import linear_model\n",
    "import matplotlib.pyplot as plt\n",
    "%matplotlib inline "
   ]
  },
  {
   "cell_type": "markdown",
   "id": "6088f8c6",
   "metadata": {},
   "source": [
    "# Reading input data"
   ]
  },
  {
   "cell_type": "code",
   "execution_count": 2,
   "id": "90f27d6e",
   "metadata": {},
   "outputs": [
    {
     "data": {
      "text/html": [
       "<div>\n",
       "<style scoped>\n",
       "    .dataframe tbody tr th:only-of-type {\n",
       "        vertical-align: middle;\n",
       "    }\n",
       "\n",
       "    .dataframe tbody tr th {\n",
       "        vertical-align: top;\n",
       "    }\n",
       "\n",
       "    .dataframe thead th {\n",
       "        text-align: right;\n",
       "    }\n",
       "</style>\n",
       "<table border=\"1\" class=\"dataframe\">\n",
       "  <thead>\n",
       "    <tr style=\"text-align: right;\">\n",
       "      <th></th>\n",
       "      <th>Year</th>\n",
       "      <th>Popul</th>\n",
       "      <th>Price</th>\n",
       "      <th>rain</th>\n",
       "      <th>consumption</th>\n",
       "    </tr>\n",
       "  </thead>\n",
       "  <tbody>\n",
       "    <tr>\n",
       "      <th>0</th>\n",
       "      <td>2010</td>\n",
       "      <td>38885</td>\n",
       "      <td>0.24</td>\n",
       "      <td>788</td>\n",
       "      <td>4572923</td>\n",
       "    </tr>\n",
       "    <tr>\n",
       "      <th>1</th>\n",
       "      <td>2011</td>\n",
       "      <td>39607</td>\n",
       "      <td>0.26</td>\n",
       "      <td>630</td>\n",
       "      <td>4958822</td>\n",
       "    </tr>\n",
       "    <tr>\n",
       "      <th>2</th>\n",
       "      <td>2012</td>\n",
       "      <td>41431</td>\n",
       "      <td>0.28</td>\n",
       "      <td>645</td>\n",
       "      <td>4901240</td>\n",
       "    </tr>\n",
       "    <tr>\n",
       "      <th>3</th>\n",
       "      <td>2013</td>\n",
       "      <td>42662</td>\n",
       "      <td>0.29</td>\n",
       "      <td>746</td>\n",
       "      <td>5098086</td>\n",
       "    </tr>\n",
       "    <tr>\n",
       "      <th>4</th>\n",
       "      <td>2014</td>\n",
       "      <td>43974</td>\n",
       "      <td>0.30</td>\n",
       "      <td>636</td>\n",
       "      <td>5228509</td>\n",
       "    </tr>\n",
       "    <tr>\n",
       "      <th>5</th>\n",
       "      <td>2015</td>\n",
       "      <td>45335</td>\n",
       "      <td>0.31</td>\n",
       "      <td>605</td>\n",
       "      <td>5408442</td>\n",
       "    </tr>\n",
       "    <tr>\n",
       "      <th>6</th>\n",
       "      <td>2016</td>\n",
       "      <td>46802</td>\n",
       "      <td>0.32</td>\n",
       "      <td>552</td>\n",
       "      <td>5957869</td>\n",
       "    </tr>\n",
       "    <tr>\n",
       "      <th>7</th>\n",
       "      <td>2017</td>\n",
       "      <td>48285</td>\n",
       "      <td>0.34</td>\n",
       "      <td>528</td>\n",
       "      <td>6088739</td>\n",
       "    </tr>\n",
       "    <tr>\n",
       "      <th>8</th>\n",
       "      <td>2018</td>\n",
       "      <td>50006</td>\n",
       "      <td>0.30</td>\n",
       "      <td>632</td>\n",
       "      <td>6075706</td>\n",
       "    </tr>\n",
       "    <tr>\n",
       "      <th>9</th>\n",
       "      <td>2019</td>\n",
       "      <td>51437</td>\n",
       "      <td>0.33</td>\n",
       "      <td>617</td>\n",
       "      <td>6131266</td>\n",
       "    </tr>\n",
       "  </tbody>\n",
       "</table>\n",
       "</div>"
      ],
      "text/plain": [
       "   Year  Popul  Price  rain  consumption\n",
       "0  2010  38885   0.24   788      4572923\n",
       "1  2011  39607   0.26   630      4958822\n",
       "2  2012  41431   0.28   645      4901240\n",
       "3  2013  42662   0.29   746      5098086\n",
       "4  2014  43974   0.30   636      5228509\n",
       "5  2015  45335   0.31   605      5408442\n",
       "6  2016  46802   0.32   552      5957869\n",
       "7  2017  48285   0.34   528      6088739\n",
       "8  2018  50006   0.30   632      6075706\n",
       "9  2019  51437   0.33   617      6131266"
      ]
     },
     "execution_count": 2,
     "metadata": {},
     "output_type": "execute_result"
    }
   ],
   "source": [
    "data = pd.read_excel('Input_Data.xlsx')\n",
    "# rename columns\n",
    "data.columns = ['Year', 'Popul','Price', 'rain','consumption']\n",
    "data"
   ]
  },
  {
   "cell_type": "code",
   "execution_count": 3,
   "id": "5396ca9a",
   "metadata": {},
   "outputs": [],
   "source": [
    "# seperate independent and dependent variables \n",
    "x = data[['Popul','Price', 'rain',]]\n",
    "y = data[['consumption']]"
   ]
  },
  {
   "cell_type": "markdown",
   "id": "7fe44a23",
   "metadata": {},
   "source": [
    "# Model"
   ]
  },
  {
   "cell_type": "code",
   "execution_count": 4,
   "id": "b8ffa84c",
   "metadata": {},
   "outputs": [
    {
     "name": "stdout",
     "output_type": "stream",
     "text": [
      "Coefficients: [[ 1.15927708e+02 -1.27302385e+06 -1.94640895e+03]] whereas the intercept is [1863385.87940066]\n"
     ]
    }
   ],
   "source": [
    "# create linear regression model\n",
    "regr = linear_model.LinearRegression()\n",
    "regr.fit(x, y)\n",
    "\n",
    "# Parameters\n",
    "print('Coefficients: {0} whereas the intercept is {1}'.format(regr.coef_, regr.intercept_))"
   ]
  },
  {
   "cell_type": "code",
   "execution_count": 5,
   "id": "dbef66dd",
   "metadata": {},
   "outputs": [
    {
     "name": "stdout",
     "output_type": "stream",
     "text": [
      "r_squared= 0.9635447345805347\n"
     ]
    }
   ],
   "source": [
    "r_squared = regr.score(x,y)\n",
    "print(\"r_squared=\", r_squared)"
   ]
  },
  {
   "cell_type": "code",
   "execution_count": 6,
   "id": "2daaca08",
   "metadata": {},
   "outputs": [
    {
     "name": "stdout",
     "output_type": "stream",
     "text": [
      "                            OLS Regression Results                            \n",
      "==============================================================================\n",
      "Dep. Variable:            consumption   R-squared:                       0.964\n",
      "Model:                            OLS   Adj. R-squared:                  0.945\n",
      "Method:                 Least Squares   F-statistic:                     52.86\n",
      "Date:                Wed, 21 Sep 2022   Prob (F-statistic):           0.000105\n",
      "Time:                        23:37:46   Log-Likelihood:                -129.78\n",
      "No. Observations:                  10   AIC:                             267.6\n",
      "Df Residuals:                       6   BIC:                             268.8\n",
      "Df Model:                           3                                         \n",
      "Covariance Type:            nonrobust                                         \n",
      "==============================================================================\n",
      "                 coef    std err          t      P>|t|      [0.025      0.975]\n",
      "------------------------------------------------------------------------------\n",
      "const       1.863e+06    1.2e+06      1.551      0.172   -1.08e+06     4.8e+06\n",
      "Popul        115.9277     21.516      5.388      0.002      63.280     168.575\n",
      "Price      -1.273e+06   3.78e+06     -0.337      0.748   -1.05e+07    7.97e+06\n",
      "rain       -1946.4090    936.022     -2.079      0.083   -4236.772     343.955\n",
      "==============================================================================\n",
      "Omnibus:                        2.567   Durbin-Watson:                   2.440\n",
      "Prob(Omnibus):                  0.277   Jarque-Bera (JB):                0.957\n",
      "Skew:                          -0.203   Prob(JB):                        0.620\n",
      "Kurtosis:                       1.540   Cond. No.                     4.06e+06\n",
      "==============================================================================\n",
      "\n",
      "Notes:\n",
      "[1] Standard Errors assume that the covariance matrix of the errors is correctly specified.\n",
      "[2] The condition number is large, 4.06e+06. This might indicate that there are\n",
      "strong multicollinearity or other numerical problems.\n"
     ]
    },
    {
     "name": "stderr",
     "output_type": "stream",
     "text": [
      "C:\\Users\\ilias\\AppData\\Roaming\\Python\\Python38\\site-packages\\scipy\\stats\\stats.py:1541: UserWarning: kurtosistest only valid for n>=20 ... continuing anyway, n=10\n",
      "  warnings.warn(\"kurtosistest only valid for n>=20 ... continuing \"\n"
     ]
    }
   ],
   "source": [
    "import statsmodels.api as sm\n",
    "\n",
    "X2 = sm.add_constant(x)\n",
    "mod = sm.OLS(y,X2)\n",
    "est2 = mod.fit()\n",
    "print(est2.summary())"
   ]
  },
  {
   "cell_type": "markdown",
   "id": "8767a57d",
   "metadata": {},
   "source": [
    "# Scenarios estimation"
   ]
  },
  {
   "cell_type": "code",
   "execution_count": 7,
   "id": "98ad0ab8",
   "metadata": {},
   "outputs": [
    {
     "data": {
      "text/html": [
       "<div>\n",
       "<style scoped>\n",
       "    .dataframe tbody tr th:only-of-type {\n",
       "        vertical-align: middle;\n",
       "    }\n",
       "\n",
       "    .dataframe tbody tr th {\n",
       "        vertical-align: top;\n",
       "    }\n",
       "\n",
       "    .dataframe thead th {\n",
       "        text-align: right;\n",
       "    }\n",
       "</style>\n",
       "<table border=\"1\" class=\"dataframe\">\n",
       "  <thead>\n",
       "    <tr style=\"text-align: right;\">\n",
       "      <th></th>\n",
       "      <th>Year</th>\n",
       "      <th>Population(inh)</th>\n",
       "      <th>Price (€/m3)</th>\n",
       "      <th>Annual rainfall (mm)</th>\n",
       "    </tr>\n",
       "  </thead>\n",
       "  <tbody>\n",
       "    <tr>\n",
       "      <th>0</th>\n",
       "      <td>2030_low</td>\n",
       "      <td>52000</td>\n",
       "      <td>0.35</td>\n",
       "      <td>537</td>\n",
       "    </tr>\n",
       "    <tr>\n",
       "      <th>1</th>\n",
       "      <td>2030_medium</td>\n",
       "      <td>60000</td>\n",
       "      <td>0.50</td>\n",
       "      <td>638</td>\n",
       "    </tr>\n",
       "    <tr>\n",
       "      <th>2</th>\n",
       "      <td>2030_high</td>\n",
       "      <td>80000</td>\n",
       "      <td>0.65</td>\n",
       "      <td>738</td>\n",
       "    </tr>\n",
       "  </tbody>\n",
       "</table>\n",
       "</div>"
      ],
      "text/plain": [
       "          Year  Population(inh)  Price (€/m3)  Annual rainfall (mm)\n",
       "0     2030_low            52000          0.35                   537\n",
       "1  2030_medium            60000          0.50                   638\n",
       "2    2030_high            80000          0.65                   738"
      ]
     },
     "execution_count": 7,
     "metadata": {},
     "output_type": "execute_result"
    }
   ],
   "source": [
    "scenarios = pd.read_excel('Scenarios.xlsx')\n",
    "scenarios"
   ]
  },
  {
   "cell_type": "code",
   "execution_count": 9,
   "id": "d3e907c5",
   "metadata": {},
   "outputs": [
    {
     "name": "stdout",
     "output_type": "stream",
     "text": [
      "The water consumption for scenario 1 is 6400846.77 m3\n",
      "The water consumption for scenario 2 is 6940727.55 m3\n",
      "The water consumption for scenario 3 is 8873687.25 m3\n"
     ]
    }
   ],
   "source": [
    "results_2030 = np.zeros(scenarios.shape[0])\n",
    "\n",
    "for i in range(scenarios.shape[0]):\n",
    "    results_2030[i] = np.sum(scenarios.iloc[i][1:] * regr.coef_[0]) + regr.intercept_[0]\n",
    "    print(\"The water consumption for scenario {0} is {1} m3\".format(i+1, round(results_2030[i],2)))"
   ]
  }
 ],
 "metadata": {
  "kernelspec": {
   "display_name": "Python 3 (ipykernel)",
   "language": "python",
   "name": "python3"
  },
  "language_info": {
   "codemirror_mode": {
    "name": "ipython",
    "version": 3
   },
   "file_extension": ".py",
   "mimetype": "text/x-python",
   "name": "python",
   "nbconvert_exporter": "python",
   "pygments_lexer": "ipython3",
   "version": "3.8.10"
  }
 },
 "nbformat": 4,
 "nbformat_minor": 5
}
