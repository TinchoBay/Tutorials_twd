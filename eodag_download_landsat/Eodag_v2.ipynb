{
 "cells": [
  {
   "cell_type": "markdown",
   "id": "ef7195a9-5e4d-434a-babf-6bb404f1ea6b",
   "metadata": {
    "id": "ef7195a9-5e4d-434a-babf-6bb404f1ea6b"
   },
   "source": [
    "# Intro"
   ]
  },
  {
   "cell_type": "code",
   "execution_count": 6,
   "id": "49ef662b-8b90-4855-bc03-e49853bd153d",
   "metadata": {
    "id": "49ef662b-8b90-4855-bc03-e49853bd153d",
    "outputId": "c7f30fae-b7e7-4827-af00-5626b3b2d9a3"
   },
   "outputs": [
    {
     "data": {
      "text/plain": [
       "<eodag.api.core.EODataAccessGateway at 0x1c78529c310>"
      ]
     },
     "execution_count": 6,
     "metadata": {},
     "output_type": "execute_result"
    }
   ],
   "source": [
    "import os\n",
    "from eodag import EODataAccessGateway, setup_logging\n",
    "from datetime import datetime\n",
    "\n",
    "setup_logging(0)\n",
    "\n",
    "config_file = \"config.yaml\"\n",
    "dag = EODataAccessGateway(config_file)\n",
    "dag"
   ]
  },
  {
   "cell_type": "code",
   "execution_count": 7,
   "id": "0a183a42-eda7-46a0-9fbf-56ee8c296914",
   "metadata": {
    "id": "0a183a42-eda7-46a0-9fbf-56ee8c296914",
    "outputId": "ba49be4c-0ea8-4fd7-b97d-ac62e3ca45a9"
   },
   "outputs": [
    {
     "data": {
      "text/plain": [
       "['earth_search', 'planetary_computer', 'usgs']"
      ]
     },
     "execution_count": 7,
     "metadata": {},
     "output_type": "execute_result"
    }
   ],
   "source": [
    "dag.available_providers(\"LANDSAT_C2L2\")"
   ]
  },
  {
   "cell_type": "code",
   "execution_count": null,
   "id": "a7772d6c",
   "metadata": {},
   "outputs": [],
   "source": [
    "# Search"
   ]
  },
  {
   "cell_type": "code",
   "execution_count": 8,
   "id": "8fa982f8-7f56-447c-ad83-79bf4caa9185",
   "metadata": {
    "id": "8fa982f8-7f56-447c-ad83-79bf4caa9185",
    "outputId": "a0acce94-2b31-42d1-ae3f-858d094e69e1"
   },
   "outputs": [],
   "source": [
    "search_results, total_count = dag.search(\n",
    "    productType='LANDSAT_C2L2',\n",
    "    geom={'lonmin': 1.5, 'latmin': 43.5, 'lonmax': 2, 'latmax': 44}, \n",
    "    start='2023-01-01',\n",
    "    end='2023-01-04',\n",
    "    # provider='usgs'\n",
    ")\n"
   ]
  },
  {
   "cell_type": "code",
   "execution_count": 9,
   "id": "b5ec4b02-f039-4a27-b58d-ce7119965836",
   "metadata": {
    "id": "b5ec4b02-f039-4a27-b58d-ce7119965836",
    "outputId": "8ef7bdf6-b09b-4edd-f533-ca0104897933"
   },
   "outputs": [
    {
     "data": {
      "text/plain": [
       "SearchResult([EOProduct(id=LC08_L2SP_199029_20230104_20230111_02_T1, provider=usgs),\n",
       "              EOProduct(id=LC08_L2SP_199030_20230104_20230111_02_T1, provider=usgs)])"
      ]
     },
     "execution_count": 9,
     "metadata": {},
     "output_type": "execute_result"
    }
   ],
   "source": [
    "search_results"
   ]
  },
  {
   "cell_type": "markdown",
   "id": "c6d9201c-f87b-4425-92f1-be1b6c0720e3",
   "metadata": {
    "id": "c6d9201c-f87b-4425-92f1-be1b6c0720e3"
   },
   "source": [
    "# Download in a loop"
   ]
  },
  {
   "cell_type": "code",
   "execution_count": 12,
   "id": "11e07d6e-7242-4b9b-8272-07e4ce24e11e",
   "metadata": {
    "id": "11e07d6e-7242-4b9b-8272-07e4ce24e11e",
    "outputId": "091c9871-257f-4c76-d439-ce1a9faa3de6"
   },
   "outputs": [
    {
     "name": "stdout",
     "output_type": "stream",
     "text": [
      "F:\\Tutorials\\eodag\\outputs\\LC08_L2SP_199029_20230104_20230111_02_T1\n",
      "F:\\Tutorials\\eodag\\outputs\\LC08_L2SP_199030_20230104_20230111_02_T1\n"
     ]
    }
   ],
   "source": [
    "for i in range(len(search_results)):\n",
    "    product = search_results[i]\n",
    "    product_path = product.download()\n",
    "    print(product_path)"
   ]
  }
 ],
 "metadata": {
  "colab": {
   "provenance": []
  },
  "kernelspec": {
   "display_name": "Python 3 (ipykernel)",
   "language": "python",
   "name": "python3"
  },
  "language_info": {
   "codemirror_mode": {
    "name": "ipython",
    "version": 3
   },
   "file_extension": ".py",
   "mimetype": "text/x-python",
   "name": "python",
   "nbconvert_exporter": "python",
   "pygments_lexer": "ipython3",
   "version": "3.10.9"
  }
 },
 "nbformat": 4,
 "nbformat_minor": 5
}
