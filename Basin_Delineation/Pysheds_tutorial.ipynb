{
 "cells": [
  {
   "cell_type": "markdown",
   "id": "ded74885",
   "metadata": {},
   "source": [
    "# Importing packages"
   ]
  },
  {
   "cell_type": "code",
   "execution_count": 3,
   "id": "72402df9",
   "metadata": {},
   "outputs": [
    {
     "ename": "AttributeError",
     "evalue": "module 'scipy' has no attribute '__version__'",
     "output_type": "error",
     "traceback": [
      "\u001b[1;31m---------------------------------------------------------------------------\u001b[0m",
      "\u001b[1;31mAttributeError\u001b[0m                            Traceback (most recent call last)",
      "Cell \u001b[1;32mIn[3], line 1\u001b[0m\n\u001b[1;32m----> 1\u001b[0m \u001b[38;5;28;01mfrom\u001b[39;00m \u001b[38;5;21;01mpysheds\u001b[39;00m\u001b[38;5;21;01m.\u001b[39;00m\u001b[38;5;21;01mgrid\u001b[39;00m \u001b[38;5;28;01mimport\u001b[39;00m Grid\n\u001b[0;32m      2\u001b[0m \u001b[38;5;28;01mimport\u001b[39;00m \u001b[38;5;21;01mmatplotlib\u001b[39;00m\u001b[38;5;21;01m.\u001b[39;00m\u001b[38;5;21;01mpyplot\u001b[39;00m \u001b[38;5;28;01mas\u001b[39;00m \u001b[38;5;21;01mplt\u001b[39;00m\n\u001b[0;32m      3\u001b[0m \u001b[38;5;28;01mimport\u001b[39;00m \u001b[38;5;21;01mmatplotlib\u001b[39;00m\u001b[38;5;21;01m.\u001b[39;00m\u001b[38;5;21;01mcolors\u001b[39;00m \u001b[38;5;28;01mas\u001b[39;00m \u001b[38;5;21;01mcolors\u001b[39;00m\n",
      "File \u001b[1;32m~\\.conda\\envs\\pysheds_v2\\lib\\site-packages\\pysheds\\grid.py:2\u001b[0m\n\u001b[0;32m      1\u001b[0m \u001b[38;5;28;01mtry\u001b[39;00m:\n\u001b[1;32m----> 2\u001b[0m     \u001b[38;5;28;01mimport\u001b[39;00m \u001b[38;5;21;01mnumba\u001b[39;00m\n\u001b[0;32m      3\u001b[0m     _HAS_NUMBA \u001b[38;5;241m=\u001b[39m \u001b[38;5;28;01mTrue\u001b[39;00m\n\u001b[0;32m      4\u001b[0m \u001b[38;5;28;01mexcept\u001b[39;00m \u001b[38;5;167;01mModuleNotFoundError\u001b[39;00m:\n",
      "File \u001b[1;32m~\\.conda\\envs\\pysheds_v2\\lib\\site-packages\\numba\\__init__.py:55\u001b[0m\n\u001b[0;32m     50\u001b[0m             msg \u001b[38;5;241m=\u001b[39m (\u001b[38;5;124m\"\u001b[39m\u001b[38;5;124mNumba requires SciPy version 1.0 or greater. Got SciPy \u001b[39m\u001b[38;5;124m\"\u001b[39m\n\u001b[0;32m     51\u001b[0m                    \u001b[38;5;124mf\u001b[39m\u001b[38;5;124m\"\u001b[39m\u001b[38;5;132;01m{\u001b[39;00mscipy\u001b[38;5;241m.\u001b[39m__version__\u001b[38;5;132;01m}\u001b[39;00m\u001b[38;5;124m.\u001b[39m\u001b[38;5;124m\"\u001b[39m)\n\u001b[0;32m     52\u001b[0m             \u001b[38;5;28;01mraise\u001b[39;00m \u001b[38;5;167;01mImportError\u001b[39;00m(msg)\n\u001b[1;32m---> 55\u001b[0m \u001b[43m_ensure_critical_deps\u001b[49m\u001b[43m(\u001b[49m\u001b[43m)\u001b[49m\n\u001b[0;32m     56\u001b[0m \u001b[38;5;66;03m# END DO NOT MOVE\u001b[39;00m\n\u001b[0;32m     57\u001b[0m \u001b[38;5;66;03m# ---------------------- WARNING WARNING WARNING ----------------------------\u001b[39;00m\n\u001b[0;32m     60\u001b[0m \u001b[38;5;28;01mfrom\u001b[39;00m \u001b[38;5;21;01m.\u001b[39;00m\u001b[38;5;21;01m_version\u001b[39;00m \u001b[38;5;28;01mimport\u001b[39;00m get_versions\n",
      "File \u001b[1;32m~\\.conda\\envs\\pysheds_v2\\lib\\site-packages\\numba\\__init__.py:48\u001b[0m, in \u001b[0;36m_ensure_critical_deps\u001b[1;34m()\u001b[0m\n\u001b[0;32m     46\u001b[0m     \u001b[38;5;28;01mpass\u001b[39;00m\n\u001b[0;32m     47\u001b[0m \u001b[38;5;28;01melse\u001b[39;00m:\n\u001b[1;32m---> 48\u001b[0m     sp_version \u001b[38;5;241m=\u001b[39m \u001b[43mextract_version\u001b[49m\u001b[43m(\u001b[49m\u001b[43mscipy\u001b[49m\u001b[43m)\u001b[49m\n\u001b[0;32m     49\u001b[0m     \u001b[38;5;28;01mif\u001b[39;00m sp_version \u001b[38;5;241m<\u001b[39m (\u001b[38;5;241m1\u001b[39m, \u001b[38;5;241m0\u001b[39m):\n\u001b[0;32m     50\u001b[0m         msg \u001b[38;5;241m=\u001b[39m (\u001b[38;5;124m\"\u001b[39m\u001b[38;5;124mNumba requires SciPy version 1.0 or greater. Got SciPy \u001b[39m\u001b[38;5;124m\"\u001b[39m\n\u001b[0;32m     51\u001b[0m                \u001b[38;5;124mf\u001b[39m\u001b[38;5;124m\"\u001b[39m\u001b[38;5;132;01m{\u001b[39;00mscipy\u001b[38;5;241m.\u001b[39m__version__\u001b[38;5;132;01m}\u001b[39;00m\u001b[38;5;124m.\u001b[39m\u001b[38;5;124m\"\u001b[39m)\n",
      "File \u001b[1;32m~\\.conda\\envs\\pysheds_v2\\lib\\site-packages\\numba\\__init__.py:25\u001b[0m, in \u001b[0;36m_ensure_critical_deps.<locals>.extract_version\u001b[1;34m(mod)\u001b[0m\n\u001b[0;32m     24\u001b[0m \u001b[38;5;28;01mdef\u001b[39;00m \u001b[38;5;21mextract_version\u001b[39m(mod):\n\u001b[1;32m---> 25\u001b[0m     \u001b[38;5;28;01mreturn\u001b[39;00m \u001b[38;5;28mtuple\u001b[39m(\u001b[38;5;28mmap\u001b[39m(\u001b[38;5;28mint\u001b[39m, \u001b[43mmod\u001b[49m\u001b[38;5;241;43m.\u001b[39;49m\u001b[43m__version__\u001b[49m\u001b[38;5;241m.\u001b[39msplit(\u001b[38;5;124m'\u001b[39m\u001b[38;5;124m.\u001b[39m\u001b[38;5;124m'\u001b[39m)[:\u001b[38;5;241m2\u001b[39m]))\n",
      "\u001b[1;31mAttributeError\u001b[0m: module 'scipy' has no attribute '__version__'"
     ]
    }
   ],
   "source": [
    "from pysheds.grid import Grid\n",
    "import matplotlib.pyplot as plt\n",
    "import matplotlib.colors as colors\n",
    "\n",
    "# from shapely.geometry import LineString\n",
    "# import geopandas as gpd"
   ]
  },
  {
   "cell_type": "markdown",
   "id": "42557e17",
   "metadata": {},
   "source": [
    "# Reading DEM"
   ]
  },
  {
   "cell_type": "code",
   "execution_count": null,
   "id": "d7afa9e0",
   "metadata": {},
   "outputs": [],
   "source": [
    "grid = Grid.from_raster('Data/dem_Hesperange_BASIN.tif')\n",
    "dem = grid.read_raster('Data/dem_Hesperange_BASIN.tif')"
   ]
  },
  {
   "cell_type": "code",
   "execution_count": null,
   "id": "14bea4a0",
   "metadata": {},
   "outputs": [],
   "source": [
    "def plotFigure(data, label, cmap='Blues'):\n",
    "    plt.figure(figsize=(12,10))\n",
    "    plt.imshow(data, cmap)\n",
    "    plt.colorbar(label=label, shrink=0.6)\n",
    "    plt.grid()\n",
    "\n",
    "plotFigure(dem, 'Elevation (m)', 'terrain')"
   ]
  },
  {
   "cell_type": "markdown",
   "id": "3cf41a39",
   "metadata": {},
   "source": [
    "# Filling DEM"
   ]
  },
  {
   "cell_type": "code",
   "execution_count": null,
   "id": "ee5bbb05",
   "metadata": {},
   "outputs": [],
   "source": [
    "# Fill pits in DEM\n",
    "pit_filled_dem = grid.fill_pits(dem)\n",
    "\n",
    "# Fill depressions in DEM\n",
    "flooded_dem = grid.fill_depressions(pit_filled_dem)\n",
    "    \n",
    "# Resolve flats in DEM\n",
    "inflated_dem = grid.resolve_flats(flooded_dem)"
   ]
  },
  {
   "cell_type": "markdown",
   "id": "626883ba",
   "metadata": {},
   "source": [
    "# Directions"
   ]
  },
  {
   "cell_type": "code",
   "execution_count": null,
   "id": "ff88f7ef",
   "metadata": {},
   "outputs": [],
   "source": [
    "# Specify directional mapping\n",
    "dirmap = (64, 128, 1, 2, 4, 8, 16, 32)\n",
    "fdir = grid.flowdir(inflated_dem, dirmap=dirmap)\n",
    "plotFigure(fdir, 'Direction (-)', 'Paired')"
   ]
  },
  {
   "cell_type": "markdown",
   "id": "11e16024",
   "metadata": {},
   "source": [
    "# Flow accumulation"
   ]
  },
  {
   "cell_type": "code",
   "execution_count": null,
   "id": "d90bc4e1",
   "metadata": {},
   "outputs": [],
   "source": [
    "acc = grid.accumulation(fdir, dirmap=dirmap)\n",
    "plotFigure(acc, 'Flow accumulationb (number of pixels)', 'gray')\n",
    "\n",
    "# export to tiff\n",
    "grid.to_raster(acc, 'accumulation_image.tif')"
   ]
  },
  {
   "cell_type": "markdown",
   "id": "95d113b3",
   "metadata": {},
   "source": [
    "# Catchment delination from flow direction\n"
   ]
  },
  {
   "cell_type": "code",
   "execution_count": null,
   "id": "13d3e842",
   "metadata": {},
   "outputs": [],
   "source": [
    "x, y = 6.0982, 49.78811\n",
    "x_snap, y_snap = grid.snap_to_mask(acc > 1000, (x, y))\n",
    "\n",
    "# Delineate the catchment\n",
    "catch = grid.catchment(x=x_snap, y=y_snap, fdir=fdir, dirmap=dirmap, \n",
    "                       xytype='coordinate')"
   ]
  },
  {
   "cell_type": "code",
   "execution_count": null,
   "id": "88b6d5d9",
   "metadata": {},
   "outputs": [],
   "source": [
    "# Clip the bounding box to the catchment\n",
    "grid.clip_to(catch)\n",
    "clipped_catch = grid.view(catch)\n",
    "\n",
    "plotFigure(clipped_catch, 'Basin (m)', 'Blues')"
   ]
  },
  {
   "cell_type": "code",
   "execution_count": null,
   "id": "6f6c1640",
   "metadata": {},
   "outputs": [],
   "source": [
    "# def plotFigure(data, label, cmap='Blues'):\n",
    "#     plt.figure(figsize=(12,10))\n",
    "#     plt.imshow(data, cmap='terrain')\n",
    "#     #plt.colorbar(label=label)\n",
    "#     plt.grid()\n",
    "    \n",
    "\n"
   ]
  },
  {
   "cell_type": "code",
   "execution_count": null,
   "id": "9adb3821",
   "metadata": {},
   "outputs": [],
   "source": [
    "import seaborn as sns"
   ]
  },
  {
   "cell_type": "code",
   "execution_count": null,
   "id": "956e53cb",
   "metadata": {},
   "outputs": [],
   "source": [
    "# Extract river network\n",
    "# ---------------------\n",
    "branches = grid.extract_river_network(fdir, acc > 50, dirmap=dirmap)\n",
    "#sns.color_palette()\n",
    "\n",
    "#sns.set_palette('husl')\n",
    "fig, ax = plt.subplots(figsize=(8.5,6.5))\n",
    "\n",
    "plt.xlim(grid.bbox[0], grid.bbox[2])\n",
    "plt.ylim(grid.bbox[1], grid.bbox[3])\n",
    "ax.set_aspect('equal')\n",
    "\n",
    "for branch in branches['features']:\n",
    "    line = np.asarray(branch['geometry']['coordinates'])\n",
    "    plt.plot(line[:, 0], line[:, 1])\n",
    "    \n",
    "_ = plt.title('D8 channels', size=14)"
   ]
  },
  {
   "cell_type": "code",
   "execution_count": null,
   "id": "7305fb04",
   "metadata": {},
   "outputs": [],
   "source": [
    "branches"
   ]
  },
  {
   "cell_type": "code",
   "execution_count": null,
   "id": "5109c942",
   "metadata": {},
   "outputs": [],
   "source": [
    "line_strings = []\n",
    "\n",
    "for branch in branches['features']:\n",
    "    line_coords = branch['geometry']['coordinates']\n",
    "    line = LineString(line_coords)\n",
    "    line_strings.append(line)\n",
    "    \n",
    "gdf = gpd.GeoDataFrame(geometry=line_strings)\n",
    "gdf.plot()"
   ]
  },
  {
   "cell_type": "code",
   "execution_count": null,
   "id": "eaef1f92",
   "metadata": {},
   "outputs": [],
   "source": [
    "gdf.to_file('dataframe.shp')  "
   ]
  },
  {
   "cell_type": "code",
   "execution_count": null,
   "id": "40948a75",
   "metadata": {},
   "outputs": [],
   "source": [
    "gdf"
   ]
  },
  {
   "cell_type": "code",
   "execution_count": null,
   "id": "dfcd9f86",
   "metadata": {},
   "outputs": [],
   "source": [
    "# export to shapefile"
   ]
  }
 ],
 "metadata": {
  "kernelspec": {
   "display_name": "Python 3 (ipykernel)",
   "language": "python",
   "name": "python3"
  },
  "language_info": {
   "codemirror_mode": {
    "name": "ipython",
    "version": 3
   },
   "file_extension": ".py",
   "mimetype": "text/x-python",
   "name": "python",
   "nbconvert_exporter": "python",
   "pygments_lexer": "ipython3",
   "version": "3.9.17"
  }
 },
 "nbformat": 4,
 "nbformat_minor": 5
}
