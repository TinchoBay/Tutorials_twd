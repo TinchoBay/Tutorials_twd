{
  "nbformat": 4,
  "nbformat_minor": 0,
  "metadata": {
    "colab": {
      "provenance": []
    },
    "kernelspec": {
      "name": "python3",
      "display_name": "Python 3"
    },
    "language_info": {
      "name": "python"
    },
    "widgets": {
      "application/vnd.jupyter.widget-state+json": {
        "c501275a072b4dcbad0cc37059657a51": {
          "model_module": "jupyter-leaflet",
          "model_name": "LeafletMapModel",
          "model_module_version": "^0.17",
          "state": {
            "_dom_classes": [],
            "_model_module": "jupyter-leaflet",
            "_model_module_version": "^0.17",
            "_model_name": "LeafletMapModel",
            "_view_count": null,
            "_view_module": "jupyter-leaflet",
            "_view_module_version": "^0.17",
            "_view_name": "LeafletMapView",
            "bottom": 100144,
            "bounce_at_zoom_limits": true,
            "box_zoom": true,
            "center": [
              39.36356782741497,
              22.09487915039063
            ],
            "close_popup_on_click": true,
            "controls": [
              "IPY_MODEL_fe244b82e3e84cea98a66af3f2840810",
              "IPY_MODEL_34734873c89f4c899062f88e32691d78",
              "IPY_MODEL_3bda8cc3e7a14b329178bcfc4a32aac1",
              "IPY_MODEL_8033f810966741a9a5bd1089e93a3771",
              "IPY_MODEL_64fbb0b93a5c48ffa0b8d03fac432d4c",
              "IPY_MODEL_5b74e8bb0cc34d779e35b88441eca75f"
            ],
            "crs": {
              "name": "EPSG3857",
              "custom": false
            },
            "default_style": "IPY_MODEL_f3cab6f041b94349b0eefbcfb77c27a4",
            "double_click_zoom": true,
            "dragging": false,
            "dragging_style": "IPY_MODEL_5c3888d2c8eb4de1bf4ffdd5145955c0",
            "east": 23.32672119140625,
            "fullscreen": false,
            "inertia": true,
            "inertia_deceleration": 3000,
            "inertia_max_speed": 1500,
            "interpolation": "bilinear",
            "keyboard": true,
            "keyboard_pan_offset": 80,
            "keyboard_zoom_offset": 1,
            "layers": [
              "IPY_MODEL_51e1f3d37ada42e7960c64d68da0542d"
            ],
            "layout": "IPY_MODEL_358f3848bdd9409485a01080cc7308f7",
            "left": 146264,
            "max_zoom": 24,
            "min_zoom": null,
            "modisdate": "2023-10-02",
            "north": 39.68182601089365,
            "options": [
              "bounce_at_zoom_limits",
              "box_zoom",
              "center",
              "close_popup_on_click",
              "double_click_zoom",
              "dragging",
              "fullscreen",
              "inertia",
              "inertia_deceleration",
              "inertia_max_speed",
              "interpolation",
              "keyboard",
              "keyboard_pan_offset",
              "keyboard_zoom_offset",
              "max_zoom",
              "min_zoom",
              "prefer_canvas",
              "scroll_wheel_zoom",
              "tap",
              "tap_tolerance",
              "touch_zoom",
              "world_copy_jump",
              "zoom",
              "zoom_animation_threshold",
              "zoom_delta",
              "zoom_snap"
            ],
            "panes": {},
            "prefer_canvas": false,
            "right": 148058,
            "scroll_wheel_zoom": true,
            "south": 39.04478604850143,
            "style": "IPY_MODEL_f3cab6f041b94349b0eefbcfb77c27a4",
            "tap": true,
            "tap_tolerance": 15,
            "top": 99544,
            "touch_zoom": true,
            "west": 20.863037109375004,
            "window_url": "https://1d2cahgd8i4-496ff2e9c6d22116-0-colab.googleusercontent.com/outputframe.html?vrz=colab_20231002-060111_RC00_570019822",
            "world_copy_jump": false,
            "zoom": 10,
            "zoom_animation_threshold": 4,
            "zoom_delta": 1,
            "zoom_snap": 1
          }
        },
        "fe244b82e3e84cea98a66af3f2840810": {
          "model_module": "jupyter-leaflet",
          "model_name": "LeafletZoomControlModel",
          "model_module_version": "^0.17",
          "state": {
            "_model_module": "jupyter-leaflet",
            "_model_module_version": "^0.17",
            "_model_name": "LeafletZoomControlModel",
            "_view_count": null,
            "_view_module": "jupyter-leaflet",
            "_view_module_version": "^0.17",
            "_view_name": "LeafletZoomControlView",
            "options": [
              "position",
              "zoom_in_text",
              "zoom_in_title",
              "zoom_out_text",
              "zoom_out_title"
            ],
            "position": "topleft",
            "zoom_in_text": "+",
            "zoom_in_title": "Zoom in",
            "zoom_out_text": "-",
            "zoom_out_title": "Zoom out"
          }
        },
        "34734873c89f4c899062f88e32691d78": {
          "model_module": "jupyter-leaflet",
          "model_name": "LeafletFullScreenControlModel",
          "model_module_version": "^0.17",
          "state": {
            "_model_module": "jupyter-leaflet",
            "_model_module_version": "^0.17",
            "_model_name": "LeafletFullScreenControlModel",
            "_view_count": null,
            "_view_module": "jupyter-leaflet",
            "_view_module_version": "^0.17",
            "_view_name": "LeafletFullScreenControlView",
            "options": [
              "position"
            ],
            "position": "topleft"
          }
        },
        "3bda8cc3e7a14b329178bcfc4a32aac1": {
          "model_module": "jupyter-leaflet",
          "model_name": "LeafletSplitMapControlModel",
          "model_module_version": "^0.17",
          "state": {
            "_model_module": "jupyter-leaflet",
            "_model_module_version": "^0.17",
            "_model_name": "LeafletSplitMapControlModel",
            "_view_count": null,
            "_view_module": "jupyter-leaflet",
            "_view_module_version": "^0.17",
            "_view_name": "LeafletSplitMapControlView",
            "left_layer": "IPY_MODEL_ed4c314667da4ad0a795b07a31d15f4a",
            "options": [
              "position"
            ],
            "position": "topleft",
            "right_layer": "IPY_MODEL_fdc281675ba84d1dbd1666b03fd77644"
          }
        },
        "8033f810966741a9a5bd1089e93a3771": {
          "model_module": "jupyter-leaflet",
          "model_name": "LeafletWidgetControlModel",
          "model_module_version": "^0.17",
          "state": {
            "_model_module": "jupyter-leaflet",
            "_model_module_version": "^0.17",
            "_model_name": "LeafletWidgetControlModel",
            "_view_count": null,
            "_view_module": "jupyter-leaflet",
            "_view_module_version": "^0.17",
            "_view_name": "LeafletWidgetControlView",
            "max_height": null,
            "max_width": null,
            "min_height": null,
            "min_width": null,
            "options": [
              "position",
              "transparent_bg"
            ],
            "position": "bottomleft",
            "transparent_bg": false,
            "widget": "IPY_MODEL_3483599e2e5a48f8927f102ce5354b4b"
          }
        },
        "64fbb0b93a5c48ffa0b8d03fac432d4c": {
          "model_module": "jupyter-leaflet",
          "model_name": "LeafletWidgetControlModel",
          "model_module_version": "^0.17",
          "state": {
            "_model_module": "jupyter-leaflet",
            "_model_module_version": "^0.17",
            "_model_name": "LeafletWidgetControlModel",
            "_view_count": null,
            "_view_module": "jupyter-leaflet",
            "_view_module_version": "^0.17",
            "_view_name": "LeafletWidgetControlView",
            "max_height": null,
            "max_width": null,
            "min_height": null,
            "min_width": null,
            "options": [
              "position",
              "transparent_bg"
            ],
            "position": "bottomright",
            "transparent_bg": false,
            "widget": "IPY_MODEL_b8203ce87fce4ceab531326427e645ab"
          }
        },
        "5b74e8bb0cc34d779e35b88441eca75f": {
          "model_module": "jupyter-leaflet",
          "model_name": "LeafletLayersControlModel",
          "model_module_version": "^0.17",
          "state": {
            "_model_module": "jupyter-leaflet",
            "_model_module_version": "^0.17",
            "_model_name": "LeafletLayersControlModel",
            "_view_count": null,
            "_view_module": "jupyter-leaflet",
            "_view_module_version": "^0.17",
            "_view_name": "LeafletLayersControlView",
            "options": [
              "position"
            ],
            "position": "topright"
          }
        },
        "f3cab6f041b94349b0eefbcfb77c27a4": {
          "model_module": "jupyter-leaflet",
          "model_name": "LeafletMapStyleModel",
          "model_module_version": "^0.17",
          "state": {
            "_model_module": "jupyter-leaflet",
            "_model_module_version": "^0.17",
            "_model_name": "LeafletMapStyleModel",
            "_view_count": null,
            "_view_module": "@jupyter-widgets/base",
            "_view_module_version": "1.2.0",
            "_view_name": "StyleView",
            "cursor": "grab"
          }
        },
        "5c3888d2c8eb4de1bf4ffdd5145955c0": {
          "model_module": "jupyter-leaflet",
          "model_name": "LeafletMapStyleModel",
          "model_module_version": "^0.17",
          "state": {
            "_model_module": "jupyter-leaflet",
            "_model_module_version": "^0.17",
            "_model_name": "LeafletMapStyleModel",
            "_view_count": null,
            "_view_module": "@jupyter-widgets/base",
            "_view_module_version": "1.2.0",
            "_view_name": "StyleView",
            "cursor": "move"
          }
        },
        "51e1f3d37ada42e7960c64d68da0542d": {
          "model_module": "jupyter-leaflet",
          "model_name": "LeafletTileLayerModel",
          "model_module_version": "^0.17",
          "state": {
            "_model_module": "jupyter-leaflet",
            "_model_module_version": "^0.17",
            "_model_name": "LeafletTileLayerModel",
            "_view_count": null,
            "_view_module": "jupyter-leaflet",
            "_view_module_version": "^0.17",
            "_view_name": "LeafletTileLayerView",
            "attribution": "&copy; <a href=\"https://www.openstreetmap.org/copyright\">OpenStreetMap</a> contributors",
            "base": true,
            "bottom": true,
            "bounds": null,
            "detect_retina": false,
            "loading": false,
            "max_native_zoom": null,
            "max_zoom": 19,
            "min_native_zoom": null,
            "min_zoom": 1,
            "name": "OpenStreetMap.Mapnik",
            "no_wrap": false,
            "opacity": 1,
            "options": [
              "attribution",
              "bounds",
              "detect_retina",
              "max_native_zoom",
              "max_zoom",
              "min_native_zoom",
              "min_zoom",
              "no_wrap",
              "tile_size",
              "tms",
              "zoom_offset"
            ],
            "pane": "",
            "popup": null,
            "popup_max_height": null,
            "popup_max_width": 300,
            "popup_min_width": 50,
            "show_loading": false,
            "subitems": [],
            "tile_size": 256,
            "tms": false,
            "url": "https://tile.openstreetmap.org/{z}/{x}/{y}.png",
            "visible": true,
            "zoom_offset": 0
          }
        },
        "358f3848bdd9409485a01080cc7308f7": {
          "model_module": "@jupyter-widgets/base",
          "model_name": "LayoutModel",
          "model_module_version": "1.2.0",
          "state": {
            "_model_module": "@jupyter-widgets/base",
            "_model_module_version": "1.2.0",
            "_model_name": "LayoutModel",
            "_view_count": null,
            "_view_module": "@jupyter-widgets/base",
            "_view_module_version": "1.2.0",
            "_view_name": "LayoutView",
            "align_content": null,
            "align_items": null,
            "align_self": null,
            "border": null,
            "bottom": null,
            "display": null,
            "flex": null,
            "flex_flow": null,
            "grid_area": null,
            "grid_auto_columns": null,
            "grid_auto_flow": null,
            "grid_auto_rows": null,
            "grid_column": null,
            "grid_gap": null,
            "grid_row": null,
            "grid_template_areas": null,
            "grid_template_columns": null,
            "grid_template_rows": null,
            "height": "600px",
            "justify_content": null,
            "justify_items": null,
            "left": null,
            "margin": null,
            "max_height": null,
            "max_width": null,
            "min_height": null,
            "min_width": null,
            "object_fit": null,
            "object_position": null,
            "order": null,
            "overflow": null,
            "overflow_x": null,
            "overflow_y": null,
            "padding": null,
            "right": null,
            "top": null,
            "visibility": null,
            "width": null
          }
        },
        "0564f4ff8d144a09b61fa9248f64c2a6": {
          "model_module": "jupyter-leaflet",
          "model_name": "LeafletMapStyleModel",
          "model_module_version": "^0.17",
          "state": {
            "_model_module": "jupyter-leaflet",
            "_model_module_version": "^0.17",
            "_model_name": "LeafletMapStyleModel",
            "_view_count": null,
            "_view_module": "@jupyter-widgets/base",
            "_view_module_version": "1.2.0",
            "_view_name": "StyleView",
            "cursor": "grab"
          }
        },
        "ed4c314667da4ad0a795b07a31d15f4a": {
          "model_module": "jupyter-leaflet",
          "model_name": "LeafletTileLayerModel",
          "model_module_version": "^0.17",
          "state": {
            "_model_module": "jupyter-leaflet",
            "_model_module_version": "^0.17",
            "_model_name": "LeafletTileLayerModel",
            "_view_count": null,
            "_view_module": "jupyter-leaflet",
            "_view_module_version": "^0.17",
            "_view_name": "LeafletTileLayerView",
            "attribution": "Google Earth Engine",
            "base": false,
            "bottom": true,
            "bounds": null,
            "detect_retina": false,
            "loading": false,
            "max_native_zoom": null,
            "max_zoom": 24,
            "min_native_zoom": null,
            "min_zoom": 0,
            "name": "NDWI before",
            "no_wrap": false,
            "opacity": 1,
            "options": [
              "attribution",
              "bounds",
              "detect_retina",
              "max_native_zoom",
              "max_zoom",
              "min_native_zoom",
              "min_zoom",
              "no_wrap",
              "tile_size",
              "tms",
              "zoom_offset"
            ],
            "pane": "",
            "popup": null,
            "popup_max_height": null,
            "popup_max_width": 300,
            "popup_min_width": 50,
            "show_loading": false,
            "subitems": [],
            "tile_size": 256,
            "tms": false,
            "url": "https://earthengine.googleapis.com/v1/projects/earthengine-legacy/maps/1de8306cefcfd83efcd8969a5ef34bcc-10ffad8d2a1a30b88250d4d276fd9723/tiles/{z}/{x}/{y}",
            "visible": true,
            "zoom_offset": 0
          }
        },
        "fdc281675ba84d1dbd1666b03fd77644": {
          "model_module": "jupyter-leaflet",
          "model_name": "LeafletTileLayerModel",
          "model_module_version": "^0.17",
          "state": {
            "_model_module": "jupyter-leaflet",
            "_model_module_version": "^0.17",
            "_model_name": "LeafletTileLayerModel",
            "_view_count": null,
            "_view_module": "jupyter-leaflet",
            "_view_module_version": "^0.17",
            "_view_name": "LeafletTileLayerView",
            "attribution": "Google Earth Engine",
            "base": false,
            "bottom": true,
            "bounds": null,
            "detect_retina": false,
            "loading": false,
            "max_native_zoom": null,
            "max_zoom": 24,
            "min_native_zoom": null,
            "min_zoom": 0,
            "name": "NDWI after",
            "no_wrap": false,
            "opacity": 1,
            "options": [
              "attribution",
              "bounds",
              "detect_retina",
              "max_native_zoom",
              "max_zoom",
              "min_native_zoom",
              "min_zoom",
              "no_wrap",
              "tile_size",
              "tms",
              "zoom_offset"
            ],
            "pane": "",
            "popup": null,
            "popup_max_height": null,
            "popup_max_width": 300,
            "popup_min_width": 50,
            "show_loading": false,
            "subitems": [],
            "tile_size": 256,
            "tms": false,
            "url": "https://earthengine.googleapis.com/v1/projects/earthengine-legacy/maps/f5e733fa1bf90cbbe1235b6edfc6f00e-c37dd00aaffedaa4aaa1ea58da4512f7/tiles/{z}/{x}/{y}",
            "visible": true,
            "zoom_offset": 0
          }
        },
        "3483599e2e5a48f8927f102ce5354b4b": {
          "model_module": "@jupyter-widgets/controls",
          "model_name": "HTMLModel",
          "model_module_version": "1.5.0",
          "state": {
            "_dom_classes": [],
            "_model_module": "@jupyter-widgets/controls",
            "_model_module_version": "1.5.0",
            "_model_name": "HTMLModel",
            "_view_count": null,
            "_view_module": "@jupyter-widgets/controls",
            "_view_module_version": "1.5.0",
            "_view_name": "HTMLView",
            "description": "",
            "description_tooltip": null,
            "layout": "IPY_MODEL_b418bc2ec9d24aacbff0f653bc5d3f24",
            "placeholder": "​",
            "style": "IPY_MODEL_b620a733843a4d959304ad38892e34ad",
            "value": "Before the event"
          }
        },
        "b8203ce87fce4ceab531326427e645ab": {
          "model_module": "@jupyter-widgets/controls",
          "model_name": "HTMLModel",
          "model_module_version": "1.5.0",
          "state": {
            "_dom_classes": [],
            "_model_module": "@jupyter-widgets/controls",
            "_model_module_version": "1.5.0",
            "_model_name": "HTMLModel",
            "_view_count": null,
            "_view_module": "@jupyter-widgets/controls",
            "_view_module_version": "1.5.0",
            "_view_name": "HTMLView",
            "description": "",
            "description_tooltip": null,
            "layout": "IPY_MODEL_b418bc2ec9d24aacbff0f653bc5d3f24",
            "placeholder": "​",
            "style": "IPY_MODEL_6dcf86d4a8024aa9a18094aa820cd059",
            "value": "After the event"
          }
        },
        "b418bc2ec9d24aacbff0f653bc5d3f24": {
          "model_module": "@jupyter-widgets/base",
          "model_name": "LayoutModel",
          "model_module_version": "1.2.0",
          "state": {
            "_model_module": "@jupyter-widgets/base",
            "_model_module_version": "1.2.0",
            "_model_name": "LayoutModel",
            "_view_count": null,
            "_view_module": "@jupyter-widgets/base",
            "_view_module_version": "1.2.0",
            "_view_name": "LayoutView",
            "align_content": null,
            "align_items": null,
            "align_self": null,
            "border": null,
            "bottom": null,
            "display": null,
            "flex": null,
            "flex_flow": null,
            "grid_area": null,
            "grid_auto_columns": null,
            "grid_auto_flow": null,
            "grid_auto_rows": null,
            "grid_column": null,
            "grid_gap": null,
            "grid_row": null,
            "grid_template_areas": null,
            "grid_template_columns": null,
            "grid_template_rows": null,
            "height": null,
            "justify_content": null,
            "justify_items": null,
            "left": null,
            "margin": null,
            "max_height": null,
            "max_width": null,
            "min_height": null,
            "min_width": null,
            "object_fit": null,
            "object_position": null,
            "order": null,
            "overflow": null,
            "overflow_x": null,
            "overflow_y": null,
            "padding": "0px 4px 0px 4px",
            "right": null,
            "top": null,
            "visibility": null,
            "width": null
          }
        },
        "b620a733843a4d959304ad38892e34ad": {
          "model_module": "@jupyter-widgets/controls",
          "model_name": "DescriptionStyleModel",
          "model_module_version": "1.5.0",
          "state": {
            "_model_module": "@jupyter-widgets/controls",
            "_model_module_version": "1.5.0",
            "_model_name": "DescriptionStyleModel",
            "_view_count": null,
            "_view_module": "@jupyter-widgets/base",
            "_view_module_version": "1.2.0",
            "_view_name": "StyleView",
            "description_width": ""
          }
        },
        "6dcf86d4a8024aa9a18094aa820cd059": {
          "model_module": "@jupyter-widgets/controls",
          "model_name": "DescriptionStyleModel",
          "model_module_version": "1.5.0",
          "state": {
            "_model_module": "@jupyter-widgets/controls",
            "_model_module_version": "1.5.0",
            "_model_name": "DescriptionStyleModel",
            "_view_count": null,
            "_view_module": "@jupyter-widgets/base",
            "_view_module_version": "1.2.0",
            "_view_name": "StyleView",
            "description_width": ""
          }
        }
      }
    }
  },
  "cells": [
    {
      "cell_type": "code",
      "execution_count": 1,
      "metadata": {
        "colab": {
          "base_uri": "https://localhost:8080/",
          "height": 780,
          "referenced_widgets": [
            "c501275a072b4dcbad0cc37059657a51",
            "fe244b82e3e84cea98a66af3f2840810",
            "34734873c89f4c899062f88e32691d78",
            "3bda8cc3e7a14b329178bcfc4a32aac1",
            "8033f810966741a9a5bd1089e93a3771",
            "64fbb0b93a5c48ffa0b8d03fac432d4c",
            "5b74e8bb0cc34d779e35b88441eca75f",
            "f3cab6f041b94349b0eefbcfb77c27a4",
            "5c3888d2c8eb4de1bf4ffdd5145955c0",
            "51e1f3d37ada42e7960c64d68da0542d",
            "358f3848bdd9409485a01080cc7308f7",
            "0564f4ff8d144a09b61fa9248f64c2a6",
            "ed4c314667da4ad0a795b07a31d15f4a",
            "fdc281675ba84d1dbd1666b03fd77644",
            "3483599e2e5a48f8927f102ce5354b4b",
            "b8203ce87fce4ceab531326427e645ab",
            "b418bc2ec9d24aacbff0f653bc5d3f24",
            "b620a733843a4d959304ad38892e34ad",
            "6dcf86d4a8024aa9a18094aa820cd059"
          ]
        },
        "id": "THj2NeUf3Hit",
        "outputId": "c5ec372b-7248-48f3-db02-3addc458d261"
      },
      "outputs": [
        {
          "output_type": "stream",
          "name": "stdout",
          "text": [
            "To authorize access needed by Earth Engine, open the following URL in a web browser and follow the instructions. If the web browser does not start automatically, please manually browse the URL below.\n",
            "\n",
            "    https://code.earthengine.google.com/client-auth?scopes=https%3A//www.googleapis.com/auth/earthengine%20https%3A//www.googleapis.com/auth/devstorage.full_control&request_id=KhewTZShJZGWsNKiGpWm5TR06gFYOA-FvelMJoGVmCA&tc=1dbJxql2qkdZxbL7zeDfwRFC3yLJ53SS33uUlb_EoXg&cc=Z56sRc-GTpnLYyCq3j3JSVm9kZVedfL_uTHD2I68zFc\n",
            "\n",
            "The authorization workflow will generate a code, which you should paste in the box below.\n",
            "Enter verification code: 4/1AfJohXm6FNWlGhFs_-GA3ek3JGJ0rgCw2FHHXeS2kWWJ__4k2e_Z7dVyWCQ\n",
            "\n",
            "Successfully saved authorization token.\n"
          ]
        },
        {
          "output_type": "display_data",
          "data": {
            "text/plain": [
              "Map(center=[38, 22], controls=(ZoomControl(options=['position', 'zoom_in_text', 'zoom_in_title', 'zoom_out_tex…"
            ],
            "application/vnd.jupyter.widget-view+json": {
              "version_major": 2,
              "version_minor": 0,
              "model_id": "c501275a072b4dcbad0cc37059657a51"
            }
          },
          "metadata": {
            "application/vnd.jupyter.widget-view+json": {
              "colab": {
                "custom_widget_manager": {
                  "url": "https://ssl.gstatic.com/colaboratory-static/widgets/colab-cdn-widget-manager/b3e629b1971e1542/manager.min.js"
                }
              }
            }
          }
        }
      ],
      "source": [
        "import ee\n",
        "import geemap\n",
        "\n",
        "Map = geemap.Map()\n",
        "\n",
        "countries = ee.FeatureCollection(\"FAO/GAUL/2015/level1\")\n",
        "thessalia = countries.filter(ee.Filter.eq('ADM1_NAME', 'Thessalia'))\n",
        "\n",
        "# Functions\n",
        "def calculate_ndwi(image):\n",
        "    ndwi = image.normalizedDifference([\"B8\", \"B3\"])\n",
        "    return ndwi\n",
        "\n",
        "# Create a binary mask image where masked areas are set to 1\n",
        "mask_image = ee.Image(1).clip(thessalia).mask()\n",
        "\n",
        "## Before the event\n",
        "sentinel2_before = ee.ImageCollection('COPERNICUS/S2')\\\n",
        "    .filterDate('2023-08-31', '2023-09-01').filterBounds(thessalia)\n",
        "\n",
        "## After the event\n",
        "sentinel2_after = ee.ImageCollection('COPERNICUS/S2')\\\n",
        "    .filterDate('2023-09-10', '2023-09-11').filterBounds(thessalia)\n",
        "\n",
        "# Applying the NDWI index\n",
        "ndwi_collection_before = sentinel2_before.map(calculate_ndwi)\n",
        "\n",
        "# Applying the NDWI index\n",
        "ndwi_collection_after = sentinel2_after.map(calculate_ndwi)\n",
        "\n",
        "# Update the mask of NDWI collections using the binary mask\n",
        "ndwi_collection_before_masked = ndwi_collection_before.map(lambda image: image.updateMask(mask_image))\n",
        "ndwi_collection_after_masked = ndwi_collection_after.map(lambda image: image.updateMask(mask_image))\n",
        "\n",
        "ndwi_vis = {\"min\": -1, \"max\": 1, \"palette\": [\"green\", \"white\", \"blue\"]}\n",
        "\n",
        "left_layer = geemap.ee_tile_layer(ndwi_collection_before_masked, ndwi_vis, name='NDWI before')\n",
        "right_layer = geemap.ee_tile_layer(ndwi_collection_after_masked, ndwi_vis, name='NDWI after')\n",
        "\n",
        "Map.split_map(left_layer, right_layer, left_label='Before the event',\n",
        "    right_label='After the event')\n",
        "Map.setCenter(22, 38, 7)\n",
        "Map"
      ]
    }
  ]
}