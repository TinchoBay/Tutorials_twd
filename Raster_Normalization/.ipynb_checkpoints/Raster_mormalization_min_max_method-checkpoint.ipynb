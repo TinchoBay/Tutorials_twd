{
 "cells": [
  {
   "cell_type": "markdown",
   "id": "d674804d",
   "metadata": {},
   "source": [
    "# Importing libraries"
   ]
  },
  {
   "cell_type": "code",
   "execution_count": 1,
   "id": "cea2ef88",
   "metadata": {},
   "outputs": [],
   "source": [
    "import gdal"
   ]
  },
  {
   "cell_type": "markdown",
   "id": "e9b072e7",
   "metadata": {},
   "source": [
    "# Reading the dataset"
   ]
  },
  {
   "cell_type": "code",
   "execution_count": 2,
   "id": "ac77bf6b",
   "metadata": {},
   "outputs": [],
   "source": [
    "input_im = gdal.Open('Input_data/temperature_Burkina_clip.tif')\n",
    "input_im_band = input_im.GetRasterBand(1)"
   ]
  },
  {
   "cell_type": "markdown",
   "id": "3b4f9d71",
   "metadata": {},
   "source": [
    "# Stats - Determining minimum and maximum values"
   ]
  },
  {
   "cell_type": "code",
   "execution_count": 3,
   "id": "40a3c352",
   "metadata": {},
   "outputs": [
    {
     "name": "stdout",
     "output_type": "stream",
     "text": [
      "[ STATS ] =  Minimum=294.183, Maximum=320.943\n"
     ]
    }
   ],
   "source": [
    "stats = input_im_band.GetStatistics(False, True)\n",
    "min_value, max_value = stats[0], stats[1]\n",
    "print(\"[ STATS ] =  Minimum=%.3f, Maximum=%.3f\" % (stats[0], stats[1]))"
   ]
  },
  {
   "cell_type": "markdown",
   "id": "da07af60",
   "metadata": {},
   "source": [
    "# Normalize"
   ]
  },
  {
   "cell_type": "code",
   "execution_count": 4,
   "id": "89e73385",
   "metadata": {},
   "outputs": [],
   "source": [
    "output_im = 'Produced/image_norm.tif'\n",
    "driver_tiff = gdal.GetDriverByName('GTiff')\n",
    "output_im_band = driver_tiff.CreateCopy(output_im, input_im, strict=0)"
   ]
  },
  {
   "cell_type": "markdown",
   "id": "327e0fb9",
   "metadata": {},
   "source": [
    "### Reading input band as an array"
   ]
  },
  {
   "cell_type": "code",
   "execution_count": 5,
   "id": "ee171878",
   "metadata": {},
   "outputs": [],
   "source": [
    "input_im_band_ar = input_im.GetRasterBand(1).ReadAsArray()"
   ]
  },
  {
   "cell_type": "markdown",
   "id": "7da90bf2",
   "metadata": {},
   "source": [
    "The FALSE (or 0) value used for the bStrict option just after the destination filename in the CreateCopy() call indicates that the CreateCopy() call should proceed without a fatal error even if the destination dataset cannot be created to exactly match the input dataset. This might be because the output format does not support the pixel datatype of the input dataset, or because the destination cannot support writing georeferencing for instance."
   ]
  },
  {
   "cell_type": "markdown",
   "id": "eb80ceca",
   "metadata": {},
   "source": [
    "### Normalization formulas"
   ]
  },
  {
   "cell_type": "markdown",
   "id": "500fffe2",
   "metadata": {},
   "source": [
    "$$\n",
    "X_{\\text {Norm }_{i}}=\\frac{X_{i}-X_{M i n}}{X_{M a x}-X_{M i n}}\n",
    "$$"
   ]
  },
  {
   "cell_type": "markdown",
   "id": "4b909eb6",
   "metadata": {},
   "source": [
    "$$\n",
    "X_{N o r m_{i}}=\\frac{X_{\\text {Max }}-X_{i}}{X_{\\text {Max }}-X_{M i n}}\n",
    "$$"
   ]
  },
  {
   "cell_type": "markdown",
   "id": "9e7b1dd5",
   "metadata": {},
   "source": [
    "where Xi: is an individual element of the indicator sample, XMin: the lowest value of the indicator,\n",
    "XMax: the highest value of the indicator, XNormi : the normalized value of the individual element"
   ]
  },
  {
   "cell_type": "markdown",
   "id": "744cbb15",
   "metadata": {},
   "source": [
    "The direction of the variables neeeds to be considered ensuring that high values are related to positive conditions"
   ]
  },
  {
   "cell_type": "markdown",
   "id": "55189b6f",
   "metadata": {},
   "source": [
    "# Output"
   ]
  },
  {
   "cell_type": "code",
   "execution_count": 6,
   "id": "3e05f73b",
   "metadata": {},
   "outputs": [],
   "source": [
    "output_im_band_ar = (input_im_band_ar - min_value) / (max_value - min_value) \n",
    "output_im_band.GetRasterBand(1).WriteArray(output_im_band_ar)\n",
    "output_im_band = input_im_band_ar = None"
   ]
  }
 ],
 "metadata": {
  "kernelspec": {
   "display_name": "Python 3 (ipykernel)",
   "language": "python",
   "name": "python3"
  },
  "language_info": {
   "codemirror_mode": {
    "name": "ipython",
    "version": 3
   },
   "file_extension": ".py",
   "mimetype": "text/x-python",
   "name": "python",
   "nbconvert_exporter": "python",
   "pygments_lexer": "ipython3",
   "version": "3.8.10"
  }
 },
 "nbformat": 4,
 "nbformat_minor": 5
}
