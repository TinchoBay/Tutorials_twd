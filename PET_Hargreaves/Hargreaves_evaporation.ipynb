{
 "cells": [
  {
   "cell_type": "code",
   "execution_count": 1,
   "id": "4bd07196",
   "metadata": {},
   "outputs": [],
   "source": [
    "import numpy as np\n",
    "import pandas as pd\n",
    "import matplotlib.pyplot as plt\n",
    "%matplotlib inline\n",
    "from datetime import datetime"
   ]
  },
  {
   "cell_type": "markdown",
   "id": "3c1adfb2",
   "metadata": {},
   "source": [
    "# 1. Theoretical Part"
   ]
  },
  {
   "cell_type": "markdown",
   "id": "44e166ad",
   "metadata": {},
   "source": [
    "Do you want to estimate Potential evaporation but there is a lack of meteorological data in you study area?\n",
    "Keep reading. There is another formula besides Penman which may be used in this case."
   ]
  },
  {
   "cell_type": "markdown",
   "id": "f574f336",
   "metadata": {},
   "source": [
    "Thornthwaite and Hargreaves approaches are commonly used for the empirical estimation of\n",
    "evaporation where there is a lack of measured hydrological data and Penman formula cannot be applied. One of their difference is that temporal scale is monthly for Thornthwaite whereas for Hargreaves, it\n",
    "can be daily or monthly. In this tutorial we will focus on Hargreaves evaporation"
   ]
  },
  {
   "cell_type": "markdown",
   "id": "8c92b00f",
   "metadata": {},
   "source": [
    "The input data are minimum and maximum temperature, and\n",
    "the geographical latitude of the station. The formula is as follows:"
   ]
  },
  {
   "cell_type": "markdown",
   "id": "0b40a75e",
   "metadata": {},
   "source": [
    "$$\n",
    "E T_{0}=0.0023 R_{a}\\left(\\frac{T_{\\max }+T_{\\min }}{2}+17.8\\right) \\sqrt{T_{\\max }-T_{\\min }}\n",
    "$$"
   ]
  },
  {
   "cell_type": "markdown",
   "id": "3493a11e",
   "metadata": {},
   "source": [
    "where:\n",
    "\n",
    "$ET_{o}$: reference evaporation and transpiration ($\\frac{MJ}{m^2 d}$), $T_{min}$: minimum temperature ($^oC$), $T_{max}$: maximum temperature ($^oC$), and $R_{a}$: daily extraterrestrial radiation ($\\frac{MJ}{m^2 d}$)"
   ]
  },
  {
   "cell_type": "markdown",
   "id": "c7f11dd9",
   "metadata": {},
   "source": [
    "Ra is dependent on the geographical latitude of the area and their relationship is negative (lower\n",
    "geographical locations receive more radiation). Based on Duffie and Beckman (1987), its formula is as\n",
    "follows:"
   ]
  },
  {
   "cell_type": "markdown",
   "id": "2a24927e",
   "metadata": {},
   "source": [
    "$$\n",
    "R_{a}=\\frac{1440}{\\pi} G_{s} d_{r}\\left[\\omega_{s} \\sin (\\phi) \\sin (\\delta)+\\sin \\left(\\omega_{s}\\right) \\cos (\\phi) \\cos (\\delta)\\right]\n",
    "$$"
   ]
  },
  {
   "cell_type": "markdown",
   "id": "b707b7cf",
   "metadata": {},
   "source": [
    "where:\n",
    "    \n",
    "$G_{s}$: solar constant (0.082 MJ/m2/d), $d_{r}$: inverse relative distance from the Earth to the sun (-), $\\delta$:\n",
    "solar declination angle (rad), $\\omega_{s}$: sunset hour angle (rad), $\\phi$: well geographical latitude (rad), and J:\n",
    "number of day in calendar year (from 1 to 365 or 366)"
   ]
  },
  {
   "cell_type": "markdown",
   "id": "1f3f6578",
   "metadata": {},
   "source": [
    "$$\n",
    "d_{r}=1+0.033 \\cos \\left(\\frac{2 \\pi}{365} J\\right)\n",
    "$$"
   ]
  },
  {
   "cell_type": "markdown",
   "id": "83abea7a",
   "metadata": {},
   "source": [
    "$$\n",
    "\\delta=0.409 \\sin \\left(\\frac{2 \\pi}{365} J-1.39\\right)\n",
    "$$"
   ]
  },
  {
   "cell_type": "markdown",
   "id": "bace88a3",
   "metadata": {},
   "source": [
    "$$\n",
    "\\omega_{s}=\\arccos [-\\tan (\\phi) \\tan (\\delta)]\n",
    "$$"
   ]
  },
  {
   "cell_type": "markdown",
   "id": "d4cc2b1e",
   "metadata": {},
   "source": [
    "The coefficient 0.023 in the first Formula is used to transform the extraterrestrial solar radiation at the\n",
    "top of the atmosphere to the radiation at the surface of the Earth. An older version of the formula\n",
    "included the global radiation at the surface of the Earth and not the extraterrestrial radiation but\n",
    "later the formula changed. The updated formula estimates the global radiation at the surface of the\n",
    "Earth considering the extraterrestrial radiation and possible sunshine hours based on the geographical\n",
    "latitude."
   ]
  },
  {
   "cell_type": "markdown",
   "id": "3c1c6e4d",
   "metadata": {},
   "source": [
    "# 2. Preprocessing"
   ]
  },
  {
   "cell_type": "markdown",
   "id": "cd3ebf41",
   "metadata": {},
   "source": [
    "## 2.1 Maximum Temperature"
   ]
  },
  {
   "cell_type": "markdown",
   "id": "eae40acc",
   "metadata": {},
   "source": [
    "### 2.1.1 Reading input"
   ]
  },
  {
   "cell_type": "code",
   "execution_count": 2,
   "id": "bee64ac5",
   "metadata": {},
   "outputs": [
    {
     "data": {
      "text/html": [
       "<div>\n",
       "<style scoped>\n",
       "    .dataframe tbody tr th:only-of-type {\n",
       "        vertical-align: middle;\n",
       "    }\n",
       "\n",
       "    .dataframe tbody tr th {\n",
       "        vertical-align: top;\n",
       "    }\n",
       "\n",
       "    .dataframe thead th {\n",
       "        text-align: right;\n",
       "    }\n",
       "</style>\n",
       "<table border=\"1\" class=\"dataframe\">\n",
       "  <thead>\n",
       "    <tr style=\"text-align: right;\">\n",
       "      <th></th>\n",
       "      <th>T_max</th>\n",
       "    </tr>\n",
       "    <tr>\n",
       "      <th>date</th>\n",
       "      <th></th>\n",
       "    </tr>\n",
       "  </thead>\n",
       "  <tbody>\n",
       "    <tr>\n",
       "      <th>1967-10-01 08:00:00</th>\n",
       "      <td>15.0</td>\n",
       "    </tr>\n",
       "    <tr>\n",
       "      <th>1980-04-01 08:00:00</th>\n",
       "      <td>11.0</td>\n",
       "    </tr>\n",
       "    <tr>\n",
       "      <th>1980-04-02 08:00:00</th>\n",
       "      <td>11.0</td>\n",
       "    </tr>\n",
       "    <tr>\n",
       "      <th>1980-04-03 08:00:00</th>\n",
       "      <td>11.0</td>\n",
       "    </tr>\n",
       "    <tr>\n",
       "      <th>1980-04-04 08:00:00</th>\n",
       "      <td>11.0</td>\n",
       "    </tr>\n",
       "  </tbody>\n",
       "</table>\n",
       "</div>"
      ],
      "text/plain": [
       "                     T_max\n",
       "date                      \n",
       "1967-10-01 08:00:00   15.0\n",
       "1980-04-01 08:00:00   11.0\n",
       "1980-04-02 08:00:00   11.0\n",
       "1980-04-03 08:00:00   11.0\n",
       "1980-04-04 08:00:00   11.0"
      ]
     },
     "execution_count": 2,
     "metadata": {},
     "output_type": "execute_result"
    }
   ],
   "source": [
    "byronas_T_max=pd.read_csv('Input_Data/488_max_T_vyronas.txt', skiprows=10, header=None, skipinitialspace=True, names=['date','T_max','Nothing'] , parse_dates=['date'], index_col='date')\n",
    "byronas_T_max.drop(['Nothing'], axis=1,inplace=True)\n",
    "byronas_T_max.head()"
   ]
  },
  {
   "cell_type": "code",
   "execution_count": 3,
   "id": "39848d17",
   "metadata": {},
   "outputs": [
    {
     "data": {
      "text/plain": [
       "<AxesSubplot:xlabel='date'>"
      ]
     },
     "execution_count": 3,
     "metadata": {},
     "output_type": "execute_result"
    },
    {
     "data": {
      "image/png": "[encoded data removed]",
      "text/plain": [
       "<Figure size 432x288 with 1 Axes>"
      ]
     },
     "metadata": {
      "needs_background": "light"
     },
     "output_type": "display_data"
    }
   ],
   "source": [
    "# Selecting data for the period 1984-1987\n",
    "byronas_T_max_1984_1987 = byronas_T_max.loc[\"1984-01-01\":\"1987-12-31\"].copy()\n",
    "byronas_T_max_1984_1987.plot()"
   ]
  },
  {
   "cell_type": "code",
   "execution_count": 4,
   "id": "8cf706f3",
   "metadata": {},
   "outputs": [
    {
     "data": {
      "text/plain": [
       "T_max    0\n",
       "dtype: int64"
      ]
     },
     "execution_count": 4,
     "metadata": {},
     "output_type": "execute_result"
    }
   ],
   "source": [
    "byronas_T_max_1984_1987.isnull().sum()"
   ]
  },
  {
   "cell_type": "code",
   "execution_count": 5,
   "id": "e5ac5fac",
   "metadata": {},
   "outputs": [
    {
     "data": {
      "text/html": [
       "<div>\n",
       "<style scoped>\n",
       "    .dataframe tbody tr th:only-of-type {\n",
       "        vertical-align: middle;\n",
       "    }\n",
       "\n",
       "    .dataframe tbody tr th {\n",
       "        vertical-align: top;\n",
       "    }\n",
       "\n",
       "    .dataframe thead th {\n",
       "        text-align: right;\n",
       "    }\n",
       "</style>\n",
       "<table border=\"1\" class=\"dataframe\">\n",
       "  <thead>\n",
       "    <tr style=\"text-align: right;\">\n",
       "      <th></th>\n",
       "      <th>T_max</th>\n",
       "    </tr>\n",
       "    <tr>\n",
       "      <th>date</th>\n",
       "      <th></th>\n",
       "    </tr>\n",
       "  </thead>\n",
       "  <tbody>\n",
       "    <tr>\n",
       "      <th>1984-01-01</th>\n",
       "      <td>20.0</td>\n",
       "    </tr>\n",
       "    <tr>\n",
       "      <th>1984-01-02</th>\n",
       "      <td>25.0</td>\n",
       "    </tr>\n",
       "    <tr>\n",
       "      <th>1984-01-03</th>\n",
       "      <td>26.0</td>\n",
       "    </tr>\n",
       "    <tr>\n",
       "      <th>1984-01-04</th>\n",
       "      <td>25.0</td>\n",
       "    </tr>\n",
       "    <tr>\n",
       "      <th>1984-01-05</th>\n",
       "      <td>24.0</td>\n",
       "    </tr>\n",
       "    <tr>\n",
       "      <th>...</th>\n",
       "      <td>...</td>\n",
       "    </tr>\n",
       "    <tr>\n",
       "      <th>1987-12-27</th>\n",
       "      <td>3.0</td>\n",
       "    </tr>\n",
       "    <tr>\n",
       "      <th>1987-12-28</th>\n",
       "      <td>4.0</td>\n",
       "    </tr>\n",
       "    <tr>\n",
       "      <th>1987-12-29</th>\n",
       "      <td>5.0</td>\n",
       "    </tr>\n",
       "    <tr>\n",
       "      <th>1987-12-30</th>\n",
       "      <td>6.0</td>\n",
       "    </tr>\n",
       "    <tr>\n",
       "      <th>1987-12-31</th>\n",
       "      <td>8.0</td>\n",
       "    </tr>\n",
       "  </tbody>\n",
       "</table>\n",
       "<p>1461 rows × 1 columns</p>\n",
       "</div>"
      ],
      "text/plain": [
       "            T_max\n",
       "date             \n",
       "1984-01-01   20.0\n",
       "1984-01-02   25.0\n",
       "1984-01-03   26.0\n",
       "1984-01-04   25.0\n",
       "1984-01-05   24.0\n",
       "...           ...\n",
       "1987-12-27    3.0\n",
       "1987-12-28    4.0\n",
       "1987-12-29    5.0\n",
       "1987-12-30    6.0\n",
       "1987-12-31    8.0\n",
       "\n",
       "[1461 rows x 1 columns]"
      ]
     },
     "execution_count": 5,
     "metadata": {},
     "output_type": "execute_result"
    }
   ],
   "source": [
    "# this is a function to keep only date from a datetime fiel\n",
    "\n",
    "def keep_only_date(df):\n",
    "    df['date'] = df.index\n",
    "    df['date_only'] = df['date'].dt.date\n",
    "    df.set_index('date_only', inplace=True)\n",
    "    df.index.name = 'date'\n",
    "    df.drop(['date'], inplace=True, axis=1)\n",
    "    return df\n",
    "\n",
    "keep_only_date(byronas_T_max_1984_1987)"
   ]
  },
  {
   "cell_type": "markdown",
   "id": "df5d15a6",
   "metadata": {},
   "source": [
    "### 2.1.2 Fixing missing values"
   ]
  },
  {
   "cell_type": "markdown",
   "id": "44b7f6f6",
   "metadata": {},
   "source": [
    "### <font color='blue'> Creating a dataframe of all dates"
   ]
  },
  {
   "cell_type": "code",
   "execution_count": 6,
   "id": "d7391ef2",
   "metadata": {},
   "outputs": [
    {
     "data": {
      "text/plain": [
       "(1461,)"
      ]
     },
     "execution_count": 6,
     "metadata": {},
     "output_type": "execute_result"
    }
   ],
   "source": [
    "dates_1984_1987 = pd.date_range(start = \"1984-01-01\", end=\"1987-12-31\", freq='D')\n",
    "dates_1984_1987_df = pd.DataFrame(index=dates_1984_1987, data=dates_1984_1987, columns=['date'])\n",
    "dates_1984_1987.shape"
   ]
  },
  {
   "cell_type": "markdown",
   "id": "3c2e7575",
   "metadata": {},
   "source": [
    "### <font color='blue'> Merge"
   ]
  },
  {
   "cell_type": "code",
   "execution_count": 7,
   "id": "3041a72d",
   "metadata": {},
   "outputs": [],
   "source": [
    "byronas_T_max_1984_1987.index = byronas_T_max_1984_1987.index.astype('datetime64[ns]')"
   ]
  },
  {
   "cell_type": "code",
   "execution_count": 8,
   "id": "65ce8731",
   "metadata": {},
   "outputs": [
    {
     "data": {
      "text/html": [
       "<div>\n",
       "<style scoped>\n",
       "    .dataframe tbody tr th:only-of-type {\n",
       "        vertical-align: middle;\n",
       "    }\n",
       "\n",
       "    .dataframe tbody tr th {\n",
       "        vertical-align: top;\n",
       "    }\n",
       "\n",
       "    .dataframe thead th {\n",
       "        text-align: right;\n",
       "    }\n",
       "</style>\n",
       "<table border=\"1\" class=\"dataframe\">\n",
       "  <thead>\n",
       "    <tr style=\"text-align: right;\">\n",
       "      <th></th>\n",
       "      <th>T_max</th>\n",
       "    </tr>\n",
       "  </thead>\n",
       "  <tbody>\n",
       "    <tr>\n",
       "      <th>1984-01-01</th>\n",
       "      <td>20.0</td>\n",
       "    </tr>\n",
       "    <tr>\n",
       "      <th>1984-01-02</th>\n",
       "      <td>25.0</td>\n",
       "    </tr>\n",
       "    <tr>\n",
       "      <th>1984-01-03</th>\n",
       "      <td>26.0</td>\n",
       "    </tr>\n",
       "    <tr>\n",
       "      <th>1984-01-04</th>\n",
       "      <td>25.0</td>\n",
       "    </tr>\n",
       "    <tr>\n",
       "      <th>1984-01-05</th>\n",
       "      <td>24.0</td>\n",
       "    </tr>\n",
       "    <tr>\n",
       "      <th>...</th>\n",
       "      <td>...</td>\n",
       "    </tr>\n",
       "    <tr>\n",
       "      <th>1987-12-27</th>\n",
       "      <td>3.0</td>\n",
       "    </tr>\n",
       "    <tr>\n",
       "      <th>1987-12-28</th>\n",
       "      <td>4.0</td>\n",
       "    </tr>\n",
       "    <tr>\n",
       "      <th>1987-12-29</th>\n",
       "      <td>5.0</td>\n",
       "    </tr>\n",
       "    <tr>\n",
       "      <th>1987-12-30</th>\n",
       "      <td>6.0</td>\n",
       "    </tr>\n",
       "    <tr>\n",
       "      <th>1987-12-31</th>\n",
       "      <td>8.0</td>\n",
       "    </tr>\n",
       "  </tbody>\n",
       "</table>\n",
       "<p>1461 rows × 1 columns</p>\n",
       "</div>"
      ],
      "text/plain": [
       "            T_max\n",
       "1984-01-01   20.0\n",
       "1984-01-02   25.0\n",
       "1984-01-03   26.0\n",
       "1984-01-04   25.0\n",
       "1984-01-05   24.0\n",
       "...           ...\n",
       "1987-12-27    3.0\n",
       "1987-12-28    4.0\n",
       "1987-12-29    5.0\n",
       "1987-12-30    6.0\n",
       "1987-12-31    8.0\n",
       "\n",
       "[1461 rows x 1 columns]"
      ]
     },
     "execution_count": 8,
     "metadata": {},
     "output_type": "execute_result"
    }
   ],
   "source": [
    "merge_df_T_max = pd.merge(dates_1984_1987_df, byronas_T_max_1984_1987, how='left', left_on='date', right_index=True)\n",
    "merge_df_T_max.drop(['date'], axis=1,inplace=True)\n",
    "merge_df_T_max"
   ]
  },
  {
   "cell_type": "markdown",
   "id": "d0701111",
   "metadata": {},
   "source": [
    "### <font color='blue'> Interpolation"
   ]
  },
  {
   "cell_type": "code",
   "execution_count": 10,
   "id": "2cf5621e",
   "metadata": {},
   "outputs": [],
   "source": [
    "merge_df_T_max.T_max.interpolate(method='time', inplace=True)"
   ]
  },
  {
   "cell_type": "markdown",
   "id": "a7a27504",
   "metadata": {},
   "source": [
    "# 2.2 Minimum Temperature"
   ]
  },
  {
   "cell_type": "markdown",
   "id": "6033e4e7",
   "metadata": {},
   "source": [
    "### 2.2.1 Reading input"
   ]
  },
  {
   "cell_type": "code",
   "execution_count": 11,
   "id": "1dc251f4",
   "metadata": {},
   "outputs": [
    {
     "data": {
      "text/html": [
       "<div>\n",
       "<style scoped>\n",
       "    .dataframe tbody tr th:only-of-type {\n",
       "        vertical-align: middle;\n",
       "    }\n",
       "\n",
       "    .dataframe tbody tr th {\n",
       "        vertical-align: top;\n",
       "    }\n",
       "\n",
       "    .dataframe thead th {\n",
       "        text-align: right;\n",
       "    }\n",
       "</style>\n",
       "<table border=\"1\" class=\"dataframe\">\n",
       "  <thead>\n",
       "    <tr style=\"text-align: right;\">\n",
       "      <th></th>\n",
       "      <th>T_min</th>\n",
       "    </tr>\n",
       "    <tr>\n",
       "      <th>date</th>\n",
       "      <th></th>\n",
       "    </tr>\n",
       "  </thead>\n",
       "  <tbody>\n",
       "    <tr>\n",
       "      <th>1980-04-01 08:00:00</th>\n",
       "      <td>20.0</td>\n",
       "    </tr>\n",
       "    <tr>\n",
       "      <th>1980-04-02 08:00:00</th>\n",
       "      <td>20.0</td>\n",
       "    </tr>\n",
       "    <tr>\n",
       "      <th>1980-04-03 08:00:00</th>\n",
       "      <td>20.0</td>\n",
       "    </tr>\n",
       "    <tr>\n",
       "      <th>1980-04-04 08:00:00</th>\n",
       "      <td>19.0</td>\n",
       "    </tr>\n",
       "    <tr>\n",
       "      <th>1980-04-05 08:00:00</th>\n",
       "      <td>10.0</td>\n",
       "    </tr>\n",
       "  </tbody>\n",
       "</table>\n",
       "</div>"
      ],
      "text/plain": [
       "                     T_min\n",
       "date                      \n",
       "1980-04-01 08:00:00   20.0\n",
       "1980-04-02 08:00:00   20.0\n",
       "1980-04-03 08:00:00   20.0\n",
       "1980-04-04 08:00:00   19.0\n",
       "1980-04-05 08:00:00   10.0"
      ]
     },
     "execution_count": 11,
     "metadata": {},
     "output_type": "execute_result"
    }
   ],
   "source": [
    "byronas_T_min=pd.read_csv('Input_Data/489_min_T_vyronas.txt', skiprows=10, header=None, skipinitialspace=True, names=['date','T_min','Nothing'] , parse_dates=['date'], index_col='date')\n",
    "byronas_T_min.drop(['Nothing'], axis=1,inplace=True)\n",
    "byronas_T_min.head()"
   ]
  },
  {
   "cell_type": "code",
   "execution_count": 12,
   "id": "8531a269",
   "metadata": {},
   "outputs": [
    {
     "data": {
      "text/plain": [
       "T_min    0\n",
       "dtype: int64"
      ]
     },
     "execution_count": 12,
     "metadata": {},
     "output_type": "execute_result"
    }
   ],
   "source": [
    "# Selecting data for the period 1984-2001\n",
    "byronas_T_min_1984_1987 = byronas_T_min.loc[\"1984-01-01\":\"1987-12-31\"].copy()\n",
    "byronas_T_min_1984_1987.isnull().sum()"
   ]
  },
  {
   "cell_type": "code",
   "execution_count": 13,
   "id": "b387d32e",
   "metadata": {},
   "outputs": [
    {
     "data": {
      "text/html": [
       "<div>\n",
       "<style scoped>\n",
       "    .dataframe tbody tr th:only-of-type {\n",
       "        vertical-align: middle;\n",
       "    }\n",
       "\n",
       "    .dataframe tbody tr th {\n",
       "        vertical-align: top;\n",
       "    }\n",
       "\n",
       "    .dataframe thead th {\n",
       "        text-align: right;\n",
       "    }\n",
       "</style>\n",
       "<table border=\"1\" class=\"dataframe\">\n",
       "  <thead>\n",
       "    <tr style=\"text-align: right;\">\n",
       "      <th></th>\n",
       "      <th>T_min</th>\n",
       "    </tr>\n",
       "    <tr>\n",
       "      <th>date</th>\n",
       "      <th></th>\n",
       "    </tr>\n",
       "  </thead>\n",
       "  <tbody>\n",
       "    <tr>\n",
       "      <th>1984-01-01</th>\n",
       "      <td>5.0</td>\n",
       "    </tr>\n",
       "    <tr>\n",
       "      <th>1984-01-02</th>\n",
       "      <td>-3.0</td>\n",
       "    </tr>\n",
       "    <tr>\n",
       "      <th>1984-01-03</th>\n",
       "      <td>0.0</td>\n",
       "    </tr>\n",
       "    <tr>\n",
       "      <th>1984-01-04</th>\n",
       "      <td>-2.0</td>\n",
       "    </tr>\n",
       "    <tr>\n",
       "      <th>1984-01-05</th>\n",
       "      <td>-2.0</td>\n",
       "    </tr>\n",
       "    <tr>\n",
       "      <th>...</th>\n",
       "      <td>...</td>\n",
       "    </tr>\n",
       "    <tr>\n",
       "      <th>1987-12-27</th>\n",
       "      <td>-3.0</td>\n",
       "    </tr>\n",
       "    <tr>\n",
       "      <th>1987-12-28</th>\n",
       "      <td>1.0</td>\n",
       "    </tr>\n",
       "    <tr>\n",
       "      <th>1987-12-29</th>\n",
       "      <td>1.0</td>\n",
       "    </tr>\n",
       "    <tr>\n",
       "      <th>1987-12-30</th>\n",
       "      <td>1.0</td>\n",
       "    </tr>\n",
       "    <tr>\n",
       "      <th>1987-12-31</th>\n",
       "      <td>2.0</td>\n",
       "    </tr>\n",
       "  </tbody>\n",
       "</table>\n",
       "<p>1461 rows × 1 columns</p>\n",
       "</div>"
      ],
      "text/plain": [
       "            T_min\n",
       "date             \n",
       "1984-01-01    5.0\n",
       "1984-01-02   -3.0\n",
       "1984-01-03    0.0\n",
       "1984-01-04   -2.0\n",
       "1984-01-05   -2.0\n",
       "...           ...\n",
       "1987-12-27   -3.0\n",
       "1987-12-28    1.0\n",
       "1987-12-29    1.0\n",
       "1987-12-30    1.0\n",
       "1987-12-31    2.0\n",
       "\n",
       "[1461 rows x 1 columns]"
      ]
     },
     "execution_count": 13,
     "metadata": {},
     "output_type": "execute_result"
    }
   ],
   "source": [
    "keep_only_date(byronas_T_min_1984_1987)"
   ]
  },
  {
   "cell_type": "markdown",
   "id": "717b44ec",
   "metadata": {},
   "source": [
    "### 2.2.2 Fixing missing values"
   ]
  },
  {
   "cell_type": "markdown",
   "id": "08fb8eb1",
   "metadata": {},
   "source": [
    "### <font color='blue'> Merge"
   ]
  },
  {
   "cell_type": "code",
   "execution_count": 14,
   "id": "fa3b431a",
   "metadata": {},
   "outputs": [],
   "source": [
    "byronas_T_min_1984_1987.index = byronas_T_min_1984_1987.index.astype('datetime64[ns]')"
   ]
  },
  {
   "cell_type": "code",
   "execution_count": 15,
   "id": "a31d4ccf",
   "metadata": {},
   "outputs": [
    {
     "data": {
      "text/html": [
       "<div>\n",
       "<style scoped>\n",
       "    .dataframe tbody tr th:only-of-type {\n",
       "        vertical-align: middle;\n",
       "    }\n",
       "\n",
       "    .dataframe tbody tr th {\n",
       "        vertical-align: top;\n",
       "    }\n",
       "\n",
       "    .dataframe thead th {\n",
       "        text-align: right;\n",
       "    }\n",
       "</style>\n",
       "<table border=\"1\" class=\"dataframe\">\n",
       "  <thead>\n",
       "    <tr style=\"text-align: right;\">\n",
       "      <th></th>\n",
       "      <th>T_min</th>\n",
       "    </tr>\n",
       "  </thead>\n",
       "  <tbody>\n",
       "    <tr>\n",
       "      <th>1984-01-01</th>\n",
       "      <td>5.0</td>\n",
       "    </tr>\n",
       "    <tr>\n",
       "      <th>1984-01-02</th>\n",
       "      <td>-3.0</td>\n",
       "    </tr>\n",
       "    <tr>\n",
       "      <th>1984-01-03</th>\n",
       "      <td>0.0</td>\n",
       "    </tr>\n",
       "    <tr>\n",
       "      <th>1984-01-04</th>\n",
       "      <td>-2.0</td>\n",
       "    </tr>\n",
       "    <tr>\n",
       "      <th>1984-01-05</th>\n",
       "      <td>-2.0</td>\n",
       "    </tr>\n",
       "    <tr>\n",
       "      <th>...</th>\n",
       "      <td>...</td>\n",
       "    </tr>\n",
       "    <tr>\n",
       "      <th>1987-12-27</th>\n",
       "      <td>-3.0</td>\n",
       "    </tr>\n",
       "    <tr>\n",
       "      <th>1987-12-28</th>\n",
       "      <td>1.0</td>\n",
       "    </tr>\n",
       "    <tr>\n",
       "      <th>1987-12-29</th>\n",
       "      <td>1.0</td>\n",
       "    </tr>\n",
       "    <tr>\n",
       "      <th>1987-12-30</th>\n",
       "      <td>1.0</td>\n",
       "    </tr>\n",
       "    <tr>\n",
       "      <th>1987-12-31</th>\n",
       "      <td>2.0</td>\n",
       "    </tr>\n",
       "  </tbody>\n",
       "</table>\n",
       "<p>1461 rows × 1 columns</p>\n",
       "</div>"
      ],
      "text/plain": [
       "            T_min\n",
       "1984-01-01    5.0\n",
       "1984-01-02   -3.0\n",
       "1984-01-03    0.0\n",
       "1984-01-04   -2.0\n",
       "1984-01-05   -2.0\n",
       "...           ...\n",
       "1987-12-27   -3.0\n",
       "1987-12-28    1.0\n",
       "1987-12-29    1.0\n",
       "1987-12-30    1.0\n",
       "1987-12-31    2.0\n",
       "\n",
       "[1461 rows x 1 columns]"
      ]
     },
     "execution_count": 15,
     "metadata": {},
     "output_type": "execute_result"
    }
   ],
   "source": [
    "merge_df_T_min = pd.merge(dates_1984_1987_df, byronas_T_min_1984_1987, how='left', left_on='date', right_index=True)\n",
    "merge_df_T_min.drop(['date'], axis=1,inplace=True)\n",
    "merge_df_T_min"
   ]
  },
  {
   "cell_type": "markdown",
   "id": "ffbe9971",
   "metadata": {},
   "source": [
    "### <font color='blue'>Interpolation"
   ]
  },
  {
   "cell_type": "code",
   "execution_count": 16,
   "id": "2ba774c4",
   "metadata": {},
   "outputs": [],
   "source": [
    "merge_df_T_min.T_min.interpolate(method='time', inplace=True)"
   ]
  },
  {
   "cell_type": "markdown",
   "id": "29e7d8cd",
   "metadata": {},
   "source": [
    "# 3. Heargreaves formula estimation"
   ]
  },
  {
   "cell_type": "markdown",
   "id": "808dc4eb",
   "metadata": {},
   "source": [
    "## Creating temperature difference and mean"
   ]
  },
  {
   "cell_type": "code",
   "execution_count": 17,
   "id": "3920a9b7",
   "metadata": {},
   "outputs": [],
   "source": [
    "merge_df = pd.DataFrame()\n",
    "merge_df['dif'] = merge_df_T_max.T_max - merge_df_T_min.T_min\n",
    "merge_df['T_avg']= (merge_df_T_max.T_max + merge_df_T_min.T_min) /2\n",
    "\n",
    "# In case there are negative values \n",
    "def negative(i):\n",
    "    if i<0:\n",
    "        i=0\n",
    "    else:\n",
    "        i\n",
    "    return i\n",
    "\n",
    "merge_df['dif'] = merge_df.dif.apply(negative)"
   ]
  },
  {
   "cell_type": "markdown",
   "id": "5e986b2f",
   "metadata": {},
   "source": [
    "## Calculations"
   ]
  },
  {
   "cell_type": "code",
   "execution_count": 18,
   "id": "72e8d1cb",
   "metadata": {},
   "outputs": [],
   "source": [
    "merge_df['j'] = merge_df.index.dayofyear\n",
    "merge_df['dr'] =  1 + 0.033*np.cos(2*np.pi/365* merge_df['j'])\n",
    "merge_df['delta'] =  0.409 * np.sin(2*np.pi* merge_df['j'] /365 - 1.39)\n",
    "\n",
    "# provide the geographical latitude of your study area\n",
    "# You may find it via google maps. If you click on a point, you will see the address, its geographical latitude,\n",
    "# and longitude\n",
    "phi = 37.95667\n",
    "phi_rad = np.deg2rad(phi) # convert it to rad\n",
    "\n",
    "merge_df['omega_s'] = np.arccos(-1 * (np.tan(phi_rad) * np.tan(merge_df['delta'])))\n",
    "merge_df['bracket'] = merge_df['omega_s'] *np.sin(phi_rad)*np.sin(merge_df['delta']) + np.sin(merge_df['omega_s'])*np.cos(phi_rad)*np.cos(merge_df['delta'])\n",
    "merge_df['R_a'] = 1440*0.0820/np.pi*merge_df['dr']*merge_df['bracket']\n",
    "merge_df['ET'] = 0.0023*merge_df['R_a']* (merge_df.T_avg+17.8)* np.sqrt(merge_df.dif)\n",
    "# Evaporation = Energy / (ρ * λ)\n",
    "merge_df['Evap_m'] = merge_df['ET'] / (2.45 * 1000) # output in m/d\n",
    "merge_df['Evap_mm'] = merge_df['Evap_m'] * 1000 # convert to mm/d"
   ]
  },
  {
   "cell_type": "markdown",
   "id": "856e992c",
   "metadata": {},
   "source": [
    "# 4. Plot Evaporation"
   ]
  },
  {
   "cell_type": "code",
   "execution_count": 19,
   "id": "98de95cd",
   "metadata": {},
   "outputs": [
    {
     "data": {
      "image/png": "[encoded data removed]",
      "text/plain": [
       "<Figure size 432x288 with 1 Axes>"
      ]
     },
     "metadata": {
      "needs_background": "light"
     },
     "output_type": "display_data"
    }
   ],
   "source": [
    "merge_df['Evap_mm'].plot()\n",
    "plt.xlabel('Date')\n",
    "plt.ylabel('Evaporation (mm/d)')\n",
    "plt.title('Hargreaves Evaporation', weight='bold')\n",
    "\n",
    "# Exporting to Excel\n",
    "merge_df.to_excel('Output_Data/Hargreaves_Evaporation.xlsx')"
   ]
  },
  {
   "cell_type": "markdown",
   "id": "fdf11579",
   "metadata": {},
   "source": [
    "# References"
   ]
  },
  {
   "cell_type": "markdown",
   "id": "47049c04",
   "metadata": {},
   "source": [
    "Hargreaves, G. H. and Samani, Z. A. (1982). Estimating potential evapotranspiration. Journal of the\n",
    "irrigation and Drainage Division, 108(3):225-230.\n",
    "\n",
    "Duffie, J. A. and Beckman, W. A. (1987). Solar engineering of thermal processes. Wiley New York."
   ]
  }
 ],
 "metadata": {
  "kernelspec": {
   "display_name": "Python 3 (ipykernel)",
   "language": "python",
   "name": "python3"
  },
  "language_info": {
   "codemirror_mode": {
    "name": "ipython",
    "version": 3
   },
   "file_extension": ".py",
   "mimetype": "text/x-python",
   "name": "python",
   "nbconvert_exporter": "python",
   "pygments_lexer": "ipython3",
   "version": "3.8.10"
  }
 },
 "nbformat": 4,
 "nbformat_minor": 5
}
