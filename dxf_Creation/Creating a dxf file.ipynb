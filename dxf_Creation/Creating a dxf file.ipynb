{
 "cells": [
  {
   "cell_type": "markdown",
   "id": "32e10591",
   "metadata": {},
   "source": [
    "# Packages"
   ]
  },
  {
   "cell_type": "code",
   "execution_count": 1,
   "id": "70b5197d",
   "metadata": {},
   "outputs": [],
   "source": [
    "import pandas as pd\n",
    "import shapely\n",
    "import geopandas as gpd"
   ]
  },
  {
   "cell_type": "markdown",
   "id": "bbf28c0f",
   "metadata": {},
   "source": [
    "# Input Data"
   ]
  },
  {
   "cell_type": "code",
   "execution_count": 2,
   "id": "c336e94c",
   "metadata": {},
   "outputs": [
    {
     "data": {
      "text/html": [
       "<div>\n",
       "<style scoped>\n",
       "    .dataframe tbody tr th:only-of-type {\n",
       "        vertical-align: middle;\n",
       "    }\n",
       "\n",
       "    .dataframe tbody tr th {\n",
       "        vertical-align: top;\n",
       "    }\n",
       "\n",
       "    .dataframe thead th {\n",
       "        text-align: right;\n",
       "    }\n",
       "</style>\n",
       "<table border=\"1\" class=\"dataframe\">\n",
       "  <thead>\n",
       "    <tr style=\"text-align: right;\">\n",
       "      <th></th>\n",
       "      <th>id</th>\n",
       "      <th>x</th>\n",
       "      <th>y</th>\n",
       "    </tr>\n",
       "  </thead>\n",
       "  <tbody>\n",
       "    <tr>\n",
       "      <th>0</th>\n",
       "      <td>1</td>\n",
       "      <td>480630.212</td>\n",
       "      <td>4202710.876</td>\n",
       "    </tr>\n",
       "    <tr>\n",
       "      <th>1</th>\n",
       "      <td>2</td>\n",
       "      <td>480644.768</td>\n",
       "      <td>4202705.689</td>\n",
       "    </tr>\n",
       "    <tr>\n",
       "      <th>2</th>\n",
       "      <td>3</td>\n",
       "      <td>480662.238</td>\n",
       "      <td>4202700.740</td>\n",
       "    </tr>\n",
       "    <tr>\n",
       "      <th>3</th>\n",
       "      <td>4</td>\n",
       "      <td>480677.958</td>\n",
       "      <td>4202695.060</td>\n",
       "    </tr>\n",
       "    <tr>\n",
       "      <th>4</th>\n",
       "      <td>5</td>\n",
       "      <td>480698.530</td>\n",
       "      <td>4202687.650</td>\n",
       "    </tr>\n",
       "  </tbody>\n",
       "</table>\n",
       "</div>"
      ],
      "text/plain": [
       "   id           x            y\n",
       "0   1  480630.212  4202710.876\n",
       "1   2  480644.768  4202705.689\n",
       "2   3  480662.238  4202700.740\n",
       "3   4  480677.958  4202695.060\n",
       "4   5  480698.530  4202687.650"
      ]
     },
     "execution_count": 2,
     "metadata": {},
     "output_type": "execute_result"
    }
   ],
   "source": [
    "data = pd.read_csv('Input_data/input_data_points.csv')\n",
    "data.head()"
   ]
  },
  {
   "cell_type": "markdown",
   "id": "a48110b3",
   "metadata": {},
   "source": [
    "# Creating a geodataframe of points"
   ]
  },
  {
   "cell_type": "code",
   "execution_count": 3,
   "id": "be34c78d",
   "metadata": {},
   "outputs": [
    {
     "data": {
      "text/html": [
       "<div>\n",
       "<style scoped>\n",
       "    .dataframe tbody tr th:only-of-type {\n",
       "        vertical-align: middle;\n",
       "    }\n",
       "\n",
       "    .dataframe tbody tr th {\n",
       "        vertical-align: top;\n",
       "    }\n",
       "\n",
       "    .dataframe thead th {\n",
       "        text-align: right;\n",
       "    }\n",
       "</style>\n",
       "<table border=\"1\" class=\"dataframe\">\n",
       "  <thead>\n",
       "    <tr style=\"text-align: right;\">\n",
       "      <th></th>\n",
       "      <th>id</th>\n",
       "      <th>x</th>\n",
       "      <th>y</th>\n",
       "      <th>geometry</th>\n",
       "    </tr>\n",
       "  </thead>\n",
       "  <tbody>\n",
       "    <tr>\n",
       "      <th>0</th>\n",
       "      <td>1</td>\n",
       "      <td>480630.212</td>\n",
       "      <td>4202710.876</td>\n",
       "      <td>POINT (480630.212 4202710.876)</td>\n",
       "    </tr>\n",
       "    <tr>\n",
       "      <th>1</th>\n",
       "      <td>2</td>\n",
       "      <td>480644.768</td>\n",
       "      <td>4202705.689</td>\n",
       "      <td>POINT (480644.768 4202705.689)</td>\n",
       "    </tr>\n",
       "    <tr>\n",
       "      <th>2</th>\n",
       "      <td>3</td>\n",
       "      <td>480662.238</td>\n",
       "      <td>4202700.740</td>\n",
       "      <td>POINT (480662.238 4202700.740)</td>\n",
       "    </tr>\n",
       "    <tr>\n",
       "      <th>3</th>\n",
       "      <td>4</td>\n",
       "      <td>480677.958</td>\n",
       "      <td>4202695.060</td>\n",
       "      <td>POINT (480677.958 4202695.060)</td>\n",
       "    </tr>\n",
       "    <tr>\n",
       "      <th>4</th>\n",
       "      <td>5</td>\n",
       "      <td>480698.530</td>\n",
       "      <td>4202687.650</td>\n",
       "      <td>POINT (480698.530 4202687.650)</td>\n",
       "    </tr>\n",
       "  </tbody>\n",
       "</table>\n",
       "</div>"
      ],
      "text/plain": [
       "   id           x            y                        geometry\n",
       "0   1  480630.212  4202710.876  POINT (480630.212 4202710.876)\n",
       "1   2  480644.768  4202705.689  POINT (480644.768 4202705.689)\n",
       "2   3  480662.238  4202700.740  POINT (480662.238 4202700.740)\n",
       "3   4  480677.958  4202695.060  POINT (480677.958 4202695.060)\n",
       "4   5  480698.530  4202687.650  POINT (480698.530 4202687.650)"
      ]
     },
     "execution_count": 3,
     "metadata": {},
     "output_type": "execute_result"
    }
   ],
   "source": [
    "geometry = [shapely.geometry.Point(xy) for xy in zip(data.x, data.y)]\n",
    "geo_df = gpd.GeoDataFrame(data, geometry=geometry)\n",
    "geo_df.head()"
   ]
  },
  {
   "cell_type": "markdown",
   "id": "64c2f64d",
   "metadata": {},
   "source": [
    "# Creating a geodataframe of Lines"
   ]
  },
  {
   "cell_type": "code",
   "execution_count": 4,
   "id": "80e56711",
   "metadata": {},
   "outputs": [
    {
     "data": {
      "text/html": [
       "<div>\n",
       "<style scoped>\n",
       "    .dataframe tbody tr th:only-of-type {\n",
       "        vertical-align: middle;\n",
       "    }\n",
       "\n",
       "    .dataframe tbody tr th {\n",
       "        vertical-align: top;\n",
       "    }\n",
       "\n",
       "    .dataframe thead th {\n",
       "        text-align: right;\n",
       "    }\n",
       "</style>\n",
       "<table border=\"1\" class=\"dataframe\">\n",
       "  <thead>\n",
       "    <tr style=\"text-align: right;\">\n",
       "      <th></th>\n",
       "      <th>geometry</th>\n",
       "    </tr>\n",
       "  </thead>\n",
       "  <tbody>\n",
       "    <tr>\n",
       "      <th>0</th>\n",
       "      <td>LINESTRING (480630.212 4202710.876, 480644.768...</td>\n",
       "    </tr>\n",
       "    <tr>\n",
       "      <th>0</th>\n",
       "      <td>LINESTRING (480644.768 4202705.689, 480662.238...</td>\n",
       "    </tr>\n",
       "    <tr>\n",
       "      <th>0</th>\n",
       "      <td>LINESTRING (480662.238 4202700.740, 480677.958...</td>\n",
       "    </tr>\n",
       "    <tr>\n",
       "      <th>0</th>\n",
       "      <td>LINESTRING (480677.958 4202695.060, 480698.530...</td>\n",
       "    </tr>\n",
       "    <tr>\n",
       "      <th>0</th>\n",
       "      <td>LINESTRING (480698.530 4202687.650, 480712.704...</td>\n",
       "    </tr>\n",
       "  </tbody>\n",
       "</table>\n",
       "</div>"
      ],
      "text/plain": [
       "                                            geometry\n",
       "0  LINESTRING (480630.212 4202710.876, 480644.768...\n",
       "0  LINESTRING (480644.768 4202705.689, 480662.238...\n",
       "0  LINESTRING (480662.238 4202700.740, 480677.958...\n",
       "0  LINESTRING (480677.958 4202695.060, 480698.530...\n",
       "0  LINESTRING (480698.530 4202687.650, 480712.704..."
      ]
     },
     "execution_count": 4,
     "metadata": {},
     "output_type": "execute_result"
    }
   ],
   "source": [
    "lines_array = []\n",
    "for i in range(1,geo_df.shape[0]):\n",
    "    point_line = shapely.geometry.LineString([geo_df.geometry[i-1], geo_df.geometry[i]])\n",
    "    line_gdf = gpd.GeoDataFrame({'geometry':[point_line]}, geometry='geometry')\n",
    "    lines_array.append(line_gdf)\n",
    "\n",
    "lines_concat = pd.concat(lines_array,)\n",
    "lines_concat.head()"
   ]
  },
  {
   "cell_type": "markdown",
   "id": "a762a871",
   "metadata": {},
   "source": [
    "# Creating dxf file"
   ]
  },
  {
   "cell_type": "code",
   "execution_count": 7,
   "id": "a166cb7a",
   "metadata": {},
   "outputs": [],
   "source": [
    "import ezdxf\n",
    "\n",
    "# Defining file and model space\n",
    "doc = ezdxf.new(setup=True)\n",
    "msp = doc.modelspace()\n",
    "\n",
    "# Creating 'lines' layer \n",
    "lines = doc.layers.add(\"lines\")\n",
    "lines.color = 3 # green \n",
    "\n",
    "# Creating 'texts' layer\n",
    "texts_points = doc.layers.add(\"texts_points\")\n",
    "texts_points.color = 4 # cyan\n",
    "\n",
    "# Drawing lines\n",
    "for i in range(lines_concat.shape[0]):\n",
    "        msp.add_lwpolyline(lines_concat.iloc[i].geometry.coords, dxfattribs={\"layer\": \"lines\"})\n",
    "\n",
    "# Drawing texts for points\n",
    "for i in range(geo_df.shape[0]):\n",
    "    x0 = geo_df.iloc[i].x\n",
    "    y0 = geo_df.iloc[i].y\n",
    "    msp.add_text(str(geo_df.iloc[i].id), dxfattribs={'style': 'LiberationSerif', 'height': 4,\n",
    "                    \"layer\": \"texts_points\"}).set_pos((x0, y0), align='MIDDLE_CENTER')\n",
    "\n",
    "doc.saveas(\"Lines_Drawing.dxf\")"
   ]
  }
 ],
 "metadata": {
  "kernelspec": {
   "display_name": "Python 3 (ipykernel)",
   "language": "python",
   "name": "python3"
  },
  "language_info": {
   "codemirror_mode": {
    "name": "ipython",
    "version": 3
   },
   "file_extension": ".py",
   "mimetype": "text/x-python",
   "name": "python",
   "nbconvert_exporter": "python",
   "pygments_lexer": "ipython3",
   "version": "3.8.10"
  }
 },
 "nbformat": 4,
 "nbformat_minor": 5
}
